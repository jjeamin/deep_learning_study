{
 "cells": [
  {
   "cell_type": "markdown",
   "metadata": {},
   "source": [
    "# VGG\n",
    "- 기본적인 CNN\n",
    "- 3x3의 작은 필터를 사용한 합성곱 계층을 연속으로 거친다"
   ]
  },
  {
   "cell_type": "markdown",
   "metadata": {},
   "source": [
    "# GoogLeNet\n",
    "- 세로방향 뿐만 아니라 가로 방향도 깊다.\n",
    "- 인셉션 구조\n",
    "- [1x1 합성곱, 3x3 합성곱, 5x5 합성곱, 3x3 pooling] -> filter 결합"
   ]
  },
  {
   "cell_type": "markdown",
   "metadata": {},
   "source": [
    "# ResNet\n",
    "- **스킵 연결**을 도입\n",
    "- 입력 데이터를 합성곱 계층을 건너뛰어 출력에 바로 더하는 구조\n",
    "- 신호감쇠를 막는다"
   ]
  },
  {
   "cell_type": "markdown",
   "metadata": {},
   "source": [
    "# GPU 사용\n",
    "- 대량 병렬 연산이 특기다\n",
    "# CPU 사용\n",
    "- 연속적인 복잡한 계산을 잘 처리한다\n",
    "- CUDA"
   ]
  },
  {
   "cell_type": "markdown",
   "metadata": {},
   "source": [
    "# 분산학습\n",
    "- 수평확장\n",
    "- 다수의 GPU,다수의 기기"
   ]
  },
  {
   "cell_type": "markdown",
   "metadata": {},
   "source": [
    "# 연산 정밀도와 비트 줄이기\n",
    "- 컴퓨터에서는 주로 64비트나 32비트 부동소수점 수를 사용해 실수를 표현\n",
    "    + 계산 오차는 줄어든다.\n",
    "    + 비용과 메모리 사용량이 늘게된다.\n",
    "- 16비트 반정밀도만 사용해도 학습에 문제가 없다."
   ]
  },
  {
   "cell_type": "markdown",
   "metadata": {},
   "source": [
    "# 사물검출\n",
    "- R-CNN\n",
    "    + 후보영역추출 -> SVM\n",
    "    + CNN특징 계산"
   ]
  },
  {
   "cell_type": "markdown",
   "metadata": {},
   "source": [
    "# 이미지 변환\n",
    "- A Neural Algorithm of Artistic Style"
   ]
  },
  {
   "cell_type": "markdown",
   "metadata": {},
   "source": [
    "# 이미지 생성\n",
    "- DCGAN\n",
    "- 생성자와 식별자\n",
    "- 똑같은 이미지를 생성하고 그것이 진짜인지 판별"
   ]
  },
  {
   "cell_type": "markdown",
   "metadata": {},
   "source": [
    "# 자율주행\n",
    "- 주위 환경 인식 기술 필수\n",
    "- SegNet"
   ]
  },
  {
   "cell_type": "markdown",
   "metadata": {},
   "source": [
    "# 강화학습(Deep Q NetWork)\n",
    "- 보상을 받는 쪽으로 행동한다"
   ]
  },
  {
   "cell_type": "code",
   "execution_count": null,
   "metadata": {},
   "outputs": [],
   "source": []
  }
 ],
 "metadata": {
  "kernelspec": {
   "display_name": "Python [conda env:py35_64]",
   "language": "python",
   "name": "conda-env-py35_64-py"
  },
  "language_info": {
   "codemirror_mode": {
    "name": "ipython",
    "version": 3
   },
   "file_extension": ".py",
   "mimetype": "text/x-python",
   "name": "python",
   "nbconvert_exporter": "python",
   "pygments_lexer": "ipython3",
   "version": "3.5.6"
  }
 },
 "nbformat": 4,
 "nbformat_minor": 2
}
