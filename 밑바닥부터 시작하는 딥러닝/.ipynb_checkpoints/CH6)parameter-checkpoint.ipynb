{
 "cells": [
  {
   "cell_type": "markdown",
   "metadata": {},
   "source": [
    "# 학습 관련 기술들\n",
    "- 최적값을 탐색하는 최적화 방법\n",
    "- 가중치 매개변수 초기값\n",
    "- 하이퍼파라미터 설정 방법"
   ]
  },
  {
   "cell_type": "markdown",
   "metadata": {},
   "source": [
    "## 매개변수\n",
    "- 신경망 학습의 목적은 손실 함수의 값을 가능한 낮추는 매개변수를 찾는 것 -> 최적화(optimization)\n",
    "```\n",
    "최적화는 어려운 문제입니다.\n",
    "```"
   ]
  },
  {
   "cell_type": "markdown",
   "metadata": {},
   "source": [
    "## 최적화 기법\n",
    "### 확률적 경사 하강법(SGD)\n",
    "$$ W ← {W - l{dL \\over dW}} $$\n",
    "- W : 가중치 매개변수\n",
    "- l : learning rate\n",
    "- dL / dW : W에 대한 손실함수 기울기\n",
    "- ← : 우변의 값을 좌변으로 갱신"
   ]
  },
  {
   "cell_type": "code",
   "execution_count": 1,
   "metadata": {},
   "outputs": [],
   "source": [
    "class SGD:\n",
    "    def __init__(self,lr=0.01):\n",
    "        self.lr = lr\n",
    "        \n",
    "    def update(self,params,grads):\n",
    "        for key in params.keys():\n",
    "            params[key] -= self.lr * grads[key]"
   ]
  },
  {
   "cell_type": "markdown",
   "metadata": {},
   "source": [
    "#### 단점\n",
    "- 기울기가 y축 방향이 크고 x축 방향이 작아서 대부분 (0,0)을 가르키지 않는다\n",
    "- 탐색경로가 비효율적"
   ]
  },
  {
   "cell_type": "markdown",
   "metadata": {},
   "source": [
    "### 모멘텀\n",
    "- 운동량\n",
    "\n",
    "$$ v ← {av - l{dL \\over dW}} $$\n",
    "\n",
    "$$ W ← W + v $$ \n",
    "- v : 속도\n",
    "- av : 아무 힘을 받지 않을때 서서히 하강\n",
    "- 가속도 물리법칙 적용"
   ]
  },
  {
   "cell_type": "code",
   "execution_count": null,
   "metadata": {},
   "outputs": [],
   "source": []
  }
 ],
 "metadata": {
  "kernelspec": {
   "display_name": "Python 3",
   "language": "python",
   "name": "python3"
  },
  "language_info": {
   "codemirror_mode": {
    "name": "ipython",
    "version": 3
   },
   "file_extension": ".py",
   "mimetype": "text/x-python",
   "name": "python",
   "nbconvert_exporter": "python",
   "pygments_lexer": "ipython3",
   "version": "3.5.6"
  }
 },
 "nbformat": 4,
 "nbformat_minor": 2
}
