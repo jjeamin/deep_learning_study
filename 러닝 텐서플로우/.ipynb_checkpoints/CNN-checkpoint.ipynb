{
 "cells": [
  {
   "cell_type": "markdown",
   "metadata": {},
   "source": [
    "# CNN\n",
    "## 합성곱\n",
    "> tf.nn.conv2d(x,W,strides=[1,1,1,1],padding='SAME')\n",
    "\n",
    "- x = `[None,28,28,1]`\n",
    "    + 이미지의 개수 = None \n",
    "    + 이미지 픽셀크기 = 28 x 28\n",
    "    + 색 채널 = 1\n",
    "\n",
    "\n",
    "- w = `[5,5,1,32]`\n",
    "    + 합성곱에 사용될 윈도우의 크기 = 5x5\n",
    "    + 특징 맵의 수 = 32\n",
    "    \n",
    "    \n",
    "- stride = 필터의 이동 제어\n",
    "\n",
    "\n",
    "- padding = 테두리에 패딩 적용\n",
    "    + SAME = x의 크기에 맞춰서 적용\n",
    "    \n",
    "## 풀링\n",
    "- 데이터의 크기를 줄인다\n",
    "- 최댓값 풀링\n",
    "> tf.nn.max_pool(x,ksize=[1,2,2,1],strides=[1,2,2,1],padding='SAME')\n",
    "\n",
    "- ksize = 풀링의 크기\n",
    "\n",
    "- d\n"
   ]
  },
  {
   "cell_type": "code",
   "execution_count": null,
   "metadata": {},
   "outputs": [],
   "source": []
  }
 ],
 "metadata": {
  "kernelspec": {
   "display_name": "Python [conda env:py35_64]",
   "language": "python",
   "name": "conda-env-py35_64-py"
  },
  "language_info": {
   "codemirror_mode": {
    "name": "ipython",
    "version": 3
   },
   "file_extension": ".py",
   "mimetype": "text/x-python",
   "name": "python",
   "nbconvert_exporter": "python",
   "pygments_lexer": "ipython3",
   "version": "3.5.6"
  }
 },
 "nbformat": 4,
 "nbformat_minor": 2
}
