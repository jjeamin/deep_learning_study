{
 "cells": [
  {
   "cell_type": "code",
   "execution_count": 77,
   "metadata": {
    "colab": {
     "base_uri": "https://localhost:8080/",
     "height": 649
    },
    "colab_type": "code",
    "executionInfo": {
     "elapsed": 4586,
     "status": "ok",
     "timestamp": 1573111216779,
     "user": {
      "displayName": "정재민",
      "photoUrl": "",
      "userId": "08005430968157913524"
     },
     "user_tz": -540
    },
    "id": "XK2AZAvA_DFn",
    "outputId": "85858b8b-6e71-416f-b1a7-818b4312f1f4"
   },
   "outputs": [
    {
     "name": "stdout",
     "output_type": "stream",
     "text": [
      "Requirement already satisfied: tensorflow-gpu==2.0.0 in /usr/local/lib/python3.6/dist-packages (2.0.0)\n",
      "Requirement already satisfied: termcolor>=1.1.0 in /usr/local/lib/python3.6/dist-packages (from tensorflow-gpu==2.0.0) (1.1.0)\n",
      "Requirement already satisfied: tensorboard<2.1.0,>=2.0.0 in /usr/local/lib/python3.6/dist-packages (from tensorflow-gpu==2.0.0) (2.0.1)\n",
      "Requirement already satisfied: wheel>=0.26 in /usr/local/lib/python3.6/dist-packages (from tensorflow-gpu==2.0.0) (0.33.6)\n",
      "Requirement already satisfied: gast==0.2.2 in /usr/local/lib/python3.6/dist-packages (from tensorflow-gpu==2.0.0) (0.2.2)\n",
      "Requirement already satisfied: opt-einsum>=2.3.2 in /usr/local/lib/python3.6/dist-packages (from tensorflow-gpu==2.0.0) (3.1.0)\n",
      "Requirement already satisfied: astor>=0.6.0 in /usr/local/lib/python3.6/dist-packages (from tensorflow-gpu==2.0.0) (0.8.0)\n",
      "Requirement already satisfied: absl-py>=0.7.0 in /usr/local/lib/python3.6/dist-packages (from tensorflow-gpu==2.0.0) (0.8.1)\n",
      "Requirement already satisfied: protobuf>=3.6.1 in /usr/local/lib/python3.6/dist-packages (from tensorflow-gpu==2.0.0) (3.10.0)\n",
      "Requirement already satisfied: grpcio>=1.8.6 in /usr/local/lib/python3.6/dist-packages (from tensorflow-gpu==2.0.0) (1.15.0)\n",
      "Requirement already satisfied: six>=1.10.0 in /usr/local/lib/python3.6/dist-packages (from tensorflow-gpu==2.0.0) (1.12.0)\n",
      "Requirement already satisfied: tensorflow-estimator<2.1.0,>=2.0.0 in /usr/local/lib/python3.6/dist-packages (from tensorflow-gpu==2.0.0) (2.0.1)\n",
      "Requirement already satisfied: wrapt>=1.11.1 in /usr/local/lib/python3.6/dist-packages (from tensorflow-gpu==2.0.0) (1.11.2)\n",
      "Requirement already satisfied: keras-preprocessing>=1.0.5 in /usr/local/lib/python3.6/dist-packages (from tensorflow-gpu==2.0.0) (1.1.0)\n",
      "Requirement already satisfied: numpy<2.0,>=1.16.0 in /usr/local/lib/python3.6/dist-packages (from tensorflow-gpu==2.0.0) (1.17.3)\n",
      "Requirement already satisfied: google-pasta>=0.1.6 in /usr/local/lib/python3.6/dist-packages (from tensorflow-gpu==2.0.0) (0.1.7)\n",
      "Requirement already satisfied: keras-applications>=1.0.8 in /usr/local/lib/python3.6/dist-packages (from tensorflow-gpu==2.0.0) (1.0.8)\n",
      "Requirement already satisfied: markdown>=2.6.8 in /usr/local/lib/python3.6/dist-packages (from tensorboard<2.1.0,>=2.0.0->tensorflow-gpu==2.0.0) (3.1.1)\n",
      "Requirement already satisfied: google-auth<2,>=1.6.3 in /usr/local/lib/python3.6/dist-packages (from tensorboard<2.1.0,>=2.0.0->tensorflow-gpu==2.0.0) (1.7.0)\n",
      "Requirement already satisfied: google-auth-oauthlib<0.5,>=0.4.1 in /usr/local/lib/python3.6/dist-packages (from tensorboard<2.1.0,>=2.0.0->tensorflow-gpu==2.0.0) (0.4.1)\n",
      "Requirement already satisfied: setuptools>=41.0.0 in /usr/local/lib/python3.6/dist-packages (from tensorboard<2.1.0,>=2.0.0->tensorflow-gpu==2.0.0) (41.4.0)\n",
      "Requirement already satisfied: werkzeug>=0.11.15 in /usr/local/lib/python3.6/dist-packages (from tensorboard<2.1.0,>=2.0.0->tensorflow-gpu==2.0.0) (0.16.0)\n",
      "Requirement already satisfied: h5py in /usr/local/lib/python3.6/dist-packages (from keras-applications>=1.0.8->tensorflow-gpu==2.0.0) (2.8.0)\n",
      "Requirement already satisfied: cachetools<3.2,>=2.0.0 in /usr/local/lib/python3.6/dist-packages (from google-auth<2,>=1.6.3->tensorboard<2.1.0,>=2.0.0->tensorflow-gpu==2.0.0) (3.1.1)\n",
      "Requirement already satisfied: pyasn1-modules>=0.2.1 in /usr/local/lib/python3.6/dist-packages (from google-auth<2,>=1.6.3->tensorboard<2.1.0,>=2.0.0->tensorflow-gpu==2.0.0) (0.2.7)\n",
      "Requirement already satisfied: rsa<4.1,>=3.1.4 in /usr/local/lib/python3.6/dist-packages (from google-auth<2,>=1.6.3->tensorboard<2.1.0,>=2.0.0->tensorflow-gpu==2.0.0) (4.0)\n",
      "Requirement already satisfied: requests-oauthlib>=0.7.0 in /usr/local/lib/python3.6/dist-packages (from google-auth-oauthlib<0.5,>=0.4.1->tensorboard<2.1.0,>=2.0.0->tensorflow-gpu==2.0.0) (1.2.0)\n",
      "Requirement already satisfied: pyasn1<0.5.0,>=0.4.6 in /usr/local/lib/python3.6/dist-packages (from pyasn1-modules>=0.2.1->google-auth<2,>=1.6.3->tensorboard<2.1.0,>=2.0.0->tensorflow-gpu==2.0.0) (0.4.7)\n",
      "Requirement already satisfied: oauthlib>=3.0.0 in /usr/local/lib/python3.6/dist-packages (from requests-oauthlib>=0.7.0->google-auth-oauthlib<0.5,>=0.4.1->tensorboard<2.1.0,>=2.0.0->tensorflow-gpu==2.0.0) (3.1.0)\n",
      "Requirement already satisfied: requests>=2.0.0 in /usr/local/lib/python3.6/dist-packages (from requests-oauthlib>=0.7.0->google-auth-oauthlib<0.5,>=0.4.1->tensorboard<2.1.0,>=2.0.0->tensorflow-gpu==2.0.0) (2.21.0)\n",
      "Requirement already satisfied: urllib3<1.25,>=1.21.1 in /usr/local/lib/python3.6/dist-packages (from requests>=2.0.0->requests-oauthlib>=0.7.0->google-auth-oauthlib<0.5,>=0.4.1->tensorboard<2.1.0,>=2.0.0->tensorflow-gpu==2.0.0) (1.24.3)\n",
      "Requirement already satisfied: idna<2.9,>=2.5 in /usr/local/lib/python3.6/dist-packages (from requests>=2.0.0->requests-oauthlib>=0.7.0->google-auth-oauthlib<0.5,>=0.4.1->tensorboard<2.1.0,>=2.0.0->tensorflow-gpu==2.0.0) (2.8)\n",
      "Requirement already satisfied: certifi>=2017.4.17 in /usr/local/lib/python3.6/dist-packages (from requests>=2.0.0->requests-oauthlib>=0.7.0->google-auth-oauthlib<0.5,>=0.4.1->tensorboard<2.1.0,>=2.0.0->tensorflow-gpu==2.0.0) (2019.9.11)\n",
      "Requirement already satisfied: chardet<3.1.0,>=3.0.2 in /usr/local/lib/python3.6/dist-packages (from requests>=2.0.0->requests-oauthlib>=0.7.0->google-auth-oauthlib<0.5,>=0.4.1->tensorboard<2.1.0,>=2.0.0->tensorflow-gpu==2.0.0) (3.0.4)\n"
     ]
    }
   ],
   "source": [
    "!pip install tensorflow-gpu==2.0.0\n",
    "import tensorflow as tf\n",
    "\n",
    "import numpy as np\n",
    "import os\n",
    "import time"
   ]
  },
  {
   "cell_type": "code",
   "execution_count": 0,
   "metadata": {
    "colab": {},
    "colab_type": "code",
    "id": "bzu72v2N_Os9"
   },
   "outputs": [],
   "source": [
    "# 학습시킬 데이터(셰익스피어) 다운로드\n",
    "path_to_file = tf.keras.utils.get_file('shakespeare.txt', 'https://storage.googleapis.com/download.tensorflow.org/data/shakespeare.txt')"
   ]
  },
  {
   "cell_type": "code",
   "execution_count": 79,
   "metadata": {
    "colab": {
     "base_uri": "https://localhost:8080/",
     "height": 35
    },
    "colab_type": "code",
    "executionInfo": {
     "elapsed": 3419,
     "status": "ok",
     "timestamp": 1573111216781,
     "user": {
      "displayName": "정재민",
      "photoUrl": "",
      "userId": "08005430968157913524"
     },
     "user_tz": -540
    },
    "id": "izPMp6AE_Thl",
    "outputId": "6cfb1624-2516-4377-ea75-a74fe76bdb3c"
   },
   "outputs": [
    {
     "name": "stdout",
     "output_type": "stream",
     "text": [
      "raw data length: 1115394\n"
     ]
    }
   ],
   "source": [
    "raw_data = open(path_to_file, 'rb').read().decode(encoding='utf-8')\n",
    "print ('raw data length: {}'.format(len(raw_data)))"
   ]
  },
  {
   "cell_type": "code",
   "execution_count": 0,
   "metadata": {
    "colab": {},
    "colab_type": "code",
    "id": "TUvlDj42_gTF"
   },
   "outputs": [],
   "source": [
    "raw_data = raw_data[:200000]"
   ]
  },
  {
   "cell_type": "code",
   "execution_count": 81,
   "metadata": {
    "colab": {
     "base_uri": "https://localhost:8080/",
     "height": 73
    },
    "colab_type": "code",
    "executionInfo": {
     "elapsed": 2592,
     "status": "ok",
     "timestamp": 1573111216782,
     "user": {
      "displayName": "정재민",
      "photoUrl": "",
      "userId": "08005430968157913524"
     },
     "user_tz": -540
    },
    "id": "5FNH14GL_hyW",
    "outputId": "0b21050a-d0d6-43a5-dd2a-8299fa780f17"
   },
   "outputs": [
    {
     "name": "stdout",
     "output_type": "stream",
     "text": [
      "unique word : ['\\n', ' ', '!', '&', \"'\", ',', '-', '.', ':', ';', '?', 'A', 'B', 'C', 'D', 'E', 'F', 'G', 'H', 'I', 'J', 'K', 'L', 'M', 'N', 'O', 'P', 'Q', 'R', 'S', 'T', 'U', 'V', 'W', 'Y', 'Z', 'a', 'b', 'c', 'd', 'e', 'f', 'g', 'h', 'i', 'j', 'k', 'l', 'm', 'n', 'o', 'p', 'q', 'r', 's', 't', 'u', 'v', 'w', 'x', 'y', 'z']\n",
      "unique word num : 62\n"
     ]
    }
   ],
   "source": [
    "unique_chars = sorted(set(raw_data))\n",
    "print('unique word : {}'.format(unique_chars))\n",
    "print('unique word num : {}'.format(len(unique_chars)))"
   ]
  },
  {
   "cell_type": "code",
   "execution_count": 0,
   "metadata": {
    "colab": {},
    "colab_type": "code",
    "id": "7UaXNfNJ_jU5"
   },
   "outputs": [],
   "source": [
    "char_to_int = {u:i for i,u in enumerate(unique_chars)}\n",
    "int_to_char = np.array(unique_chars)\n",
    "\n",
    "text_as_int = np.array([char_to_int[c] for c in raw_data])"
   ]
  },
  {
   "cell_type": "code",
   "execution_count": 83,
   "metadata": {
    "colab": {
     "base_uri": "https://localhost:8080/",
     "height": 35
    },
    "colab_type": "code",
    "executionInfo": {
     "elapsed": 2624,
     "status": "ok",
     "timestamp": 1573111217230,
     "user": {
      "displayName": "정재민",
      "photoUrl": "",
      "userId": "08005430968157913524"
     },
     "user_tz": -540
    },
    "id": "k5QTPfDq_wna",
    "outputId": "2dc76699-141e-4537-feb1-4a014f6b569e"
   },
   "outputs": [
    {
     "name": "stdout",
     "output_type": "stream",
     "text": [
      "'First Citizen' ---- 문자들이 다음의 정수로 매핑되었습니다 ---- > [16 44 53 54 55  1 13 44 55 44 61 40 49]\n"
     ]
    }
   ],
   "source": [
    "print ('{} ---- 문자들이 다음의 정수로 매핑되었습니다 ---- > {}'.format(repr(raw_data[:13]), text_as_int[:13]))"
   ]
  },
  {
   "cell_type": "code",
   "execution_count": 84,
   "metadata": {
    "colab": {
     "base_uri": "https://localhost:8080/",
     "height": 107
    },
    "colab_type": "code",
    "executionInfo": {
     "elapsed": 1898,
     "status": "ok",
     "timestamp": 1573111217231,
     "user": {
      "displayName": "정재민",
      "photoUrl": "",
      "userId": "08005430968157913524"
     },
     "user_tz": -540
    },
    "id": "A-4jFhye_1Gz",
    "outputId": "7419be5e-fd84-42f9-9d05-b18ed5ca1496"
   },
   "outputs": [
    {
     "name": "stdout",
     "output_type": "stream",
     "text": [
      "F\n",
      "i\n",
      "r\n",
      "s\n",
      "t\n"
     ]
    }
   ],
   "source": [
    "# 한번에 입력에 대해 원하는 문장의 최대 길이\n",
    "seq_length = 50\n",
    "examples_per_epoch = len(raw_data)//seq_length\n",
    "\n",
    "# 훈련 샘플/타깃 만들기\n",
    "char_dataset = tf.data.Dataset.from_tensor_slices(text_as_int)\n",
    "\n",
    "for i in char_dataset.take(5):\n",
    "  print(int_to_char[i.numpy()])"
   ]
  },
  {
   "cell_type": "code",
   "execution_count": 85,
   "metadata": {
    "colab": {
     "base_uri": "https://localhost:8080/",
     "height": 107
    },
    "colab_type": "code",
    "executionInfo": {
     "elapsed": 546,
     "status": "ok",
     "timestamp": 1573111218226,
     "user": {
      "displayName": "정재민",
      "photoUrl": "",
      "userId": "08005430968157913524"
     },
     "user_tz": -540
    },
    "id": "LzbU69h6_3QB",
    "outputId": "d5b37095-4892-4f52-b16e-c0fea7345ed9"
   },
   "outputs": [
    {
     "name": "stdout",
     "output_type": "stream",
     "text": [
      "'First Citizen:\\nBefore we proceed any further, hear '\n",
      "'me speak.\\n\\nAll:\\nSpeak, speak.\\n\\nFirst Citizen:\\nYou a'\n",
      "'re all resolved rather to die than to famish?\\n\\nAll:'\n",
      "'\\nResolved. resolved.\\n\\nFirst Citizen:\\nFirst, you kno'\n",
      "'w Caius Marcius is chief enemy to the people.\\n\\nAll:'\n"
     ]
    }
   ],
   "source": [
    "sequences = char_dataset.batch(seq_length+1, drop_remainder=True)\n",
    "\n",
    "for item in sequences.take(5):\n",
    "    print(repr(''.join(int_to_char[item.numpy()])))"
   ]
  },
  {
   "cell_type": "code",
   "execution_count": 0,
   "metadata": {
    "colab": {},
    "colab_type": "code",
    "id": "sd1c1vUaAZQ_"
   },
   "outputs": [],
   "source": [
    "def split_input_target(chunk):\n",
    "    input_text = chunk[:-1] # input데이터는 마지막 데이터전까지\n",
    "    target_text = chunk[1:] # target데이터는 인풋처음 다음 문자부터\n",
    "    return input_text, target_text\n",
    "\n",
    "dataset = sequences.map(split_input_target)"
   ]
  },
  {
   "cell_type": "code",
   "execution_count": 87,
   "metadata": {
    "colab": {
     "base_uri": "https://localhost:8080/",
     "height": 53
    },
    "colab_type": "code",
    "executionInfo": {
     "elapsed": 553,
     "status": "ok",
     "timestamp": 1573111220974,
     "user": {
      "displayName": "정재민",
      "photoUrl": "",
      "userId": "08005430968157913524"
     },
     "user_tz": -540
    },
    "id": "LI91d-k9AfXw",
    "outputId": "c8abfada-0980-45b3-80f1-c19d7734823e"
   },
   "outputs": [
    {
     "name": "stdout",
     "output_type": "stream",
     "text": [
      "입력 데이터:  'First Citizen:\\nBefore we proceed any further, hear'\n",
      "타깃 데이터:  'irst Citizen:\\nBefore we proceed any further, hear '\n"
     ]
    }
   ],
   "source": [
    "for input_example, target_example in  dataset.take(1):\n",
    "  print ('입력 데이터: ', repr(''.join(int_to_char[input_example.numpy()])))\n",
    "  print ('타깃 데이터: ', repr(''.join(int_to_char[target_example.numpy()])))"
   ]
  },
  {
   "cell_type": "code",
   "execution_count": 88,
   "metadata": {
    "colab": {
     "base_uri": "https://localhost:8080/",
     "height": 287
    },
    "colab_type": "code",
    "executionInfo": {
     "elapsed": 1019,
     "status": "ok",
     "timestamp": 1573111223123,
     "user": {
      "displayName": "정재민",
      "photoUrl": "",
      "userId": "08005430968157913524"
     },
     "user_tz": -540
    },
    "id": "0cI0zueCAg1x",
    "outputId": "9f1b175c-2001-43cd-cee2-ecb157bc1f02"
   },
   "outputs": [
    {
     "name": "stdout",
     "output_type": "stream",
     "text": [
      "   0단계\n",
      "  입력: 16 ('F')\n",
      "  예상 출력: 44 ('i')\n",
      "   1단계\n",
      "  입력: 44 ('i')\n",
      "  예상 출력: 53 ('r')\n",
      "   2단계\n",
      "  입력: 53 ('r')\n",
      "  예상 출력: 54 ('s')\n",
      "   3단계\n",
      "  입력: 54 ('s')\n",
      "  예상 출력: 55 ('t')\n",
      "   4단계\n",
      "  입력: 55 ('t')\n",
      "  예상 출력: 1 (' ')\n"
     ]
    }
   ],
   "source": [
    "for i, (input_idx, target_idx) in enumerate(zip(input_example[:5], target_example[:5])):\n",
    "    print(\"{:4d}단계\".format(i))\n",
    "    print(\"  입력: {} ({:s})\".format(input_idx, repr(int_to_char[input_idx])))\n",
    "    print(\"  예상 출력: {} ({:s})\".format(target_idx, repr(int_to_char[target_idx])))"
   ]
  },
  {
   "cell_type": "code",
   "execution_count": 89,
   "metadata": {
    "colab": {
     "base_uri": "https://localhost:8080/",
     "height": 35
    },
    "colab_type": "code",
    "executionInfo": {
     "elapsed": 555,
     "status": "ok",
     "timestamp": 1573111224453,
     "user": {
      "displayName": "정재민",
      "photoUrl": "",
      "userId": "08005430968157913524"
     },
     "user_tz": -540
    },
    "id": "5hkK1UcrAip7",
    "outputId": "f008cc0d-c2f0-424f-b59a-86e4708590f2"
   },
   "outputs": [
    {
     "data": {
      "text/plain": [
       "<BatchDataset shapes: ((100, 50), (100, 50)), types: (tf.int64, tf.int64)>"
      ]
     },
     "execution_count": 89,
     "metadata": {
      "tags": []
     },
     "output_type": "execute_result"
    }
   ],
   "source": [
    "# 배치 크기\n",
    "BATCH_SIZE = 100\n",
    "\n",
    "# 데이터셋을 섞을 버퍼 크기\n",
    "# (TF 데이터는 무한한 시퀀스와 함께 작동이 가능하도록 설계되었으며,\n",
    "# 따라서 전체 시퀀스를 메모리에 섞지 않습니다. 대신에,\n",
    "# 요소를 섞는 버퍼를 유지합니다).\n",
    "BUFFER_SIZE = 10000\n",
    "\n",
    "dataset = dataset.shuffle(BUFFER_SIZE).batch(BATCH_SIZE, drop_remainder=True)\n",
    "\n",
    "dataset"
   ]
  },
  {
   "cell_type": "code",
   "execution_count": 0,
   "metadata": {
    "colab": {},
    "colab_type": "code",
    "id": "0T9-3zOiAnbF"
   },
   "outputs": [],
   "source": [
    "# 문자로 된 어휘 사전의 크기\n",
    "unique_size = len(unique_chars)\n",
    "\n",
    "# 임베딩 차원\n",
    "embedding_dim = 256\n",
    "\n",
    "# RNN 유닛(unit) 개수\n",
    "rnn_units = 32"
   ]
  },
  {
   "cell_type": "code",
   "execution_count": 0,
   "metadata": {
    "colab": {},
    "colab_type": "code",
    "id": "mLtOFJC9AqZ9"
   },
   "outputs": [],
   "source": [
    "model = tf.keras.Sequential([\n",
    "  tf.keras.layers.Embedding(unique_size, embedding_dim,\n",
    "                            batch_input_shape=[BATCH_SIZE, None]),\n",
    "  tf.keras.layers.LSTM(rnn_units,\n",
    "                      return_sequences=True,\n",
    "                      stateful=True,\n",
    "                      recurrent_initializer='glorot_uniform'),\n",
    "  tf.keras.layers.LSTM(rnn_units,\n",
    "                      return_sequences=True,\n",
    "                      stateful=True,\n",
    "                      recurrent_initializer='glorot_uniform'),\n",
    "  tf.keras.layers.LSTM(rnn_units,\n",
    "                      return_sequences=True,\n",
    "                      stateful=True,\n",
    "                      recurrent_initializer='glorot_uniform'),\n",
    "  tf.keras.layers.Dense(unique_size)\n",
    "])"
   ]
  },
  {
   "cell_type": "code",
   "execution_count": 92,
   "metadata": {
    "colab": {
     "base_uri": "https://localhost:8080/",
     "height": 35
    },
    "colab_type": "code",
    "executionInfo": {
     "elapsed": 1442,
     "status": "ok",
     "timestamp": 1573111230536,
     "user": {
      "displayName": "정재민",
      "photoUrl": "",
      "userId": "08005430968157913524"
     },
     "user_tz": -540
    },
    "id": "nvd7J-DoAv-M",
    "outputId": "09cb5058-3d4f-4c84-934a-fbacc27cee1c"
   },
   "outputs": [
    {
     "name": "stdout",
     "output_type": "stream",
     "text": [
      "(100, 50, 62) # (배치 크기, 시퀀스 길이, 어휘 사전 크기)\n"
     ]
    }
   ],
   "source": [
    "for input_example_batch, target_example_batch in dataset.take(1):\n",
    "  example_batch_predictions = model(input_example_batch)\n",
    "  print(example_batch_predictions.shape, \"# (배치 크기, 시퀀스 길이, 어휘 사전 크기)\")"
   ]
  },
  {
   "cell_type": "code",
   "execution_count": 93,
   "metadata": {
    "colab": {
     "base_uri": "https://localhost:8080/",
     "height": 341
    },
    "colab_type": "code",
    "executionInfo": {
     "elapsed": 1342,
     "status": "ok",
     "timestamp": 1573111233605,
     "user": {
      "displayName": "정재민",
      "photoUrl": "",
      "userId": "08005430968157913524"
     },
     "user_tz": -540
    },
    "id": "ttFi9ED0AxuS",
    "outputId": "c9b6c008-08e0-4da5-ef3e-c9673f47b064"
   },
   "outputs": [
    {
     "name": "stdout",
     "output_type": "stream",
     "text": [
      "Model: \"sequential_4\"\n",
      "_________________________________________________________________\n",
      "Layer (type)                 Output Shape              Param #   \n",
      "=================================================================\n",
      "embedding_4 (Embedding)      (100, None, 256)          15872     \n",
      "_________________________________________________________________\n",
      "lstm_12 (LSTM)               (100, None, 32)           36992     \n",
      "_________________________________________________________________\n",
      "lstm_13 (LSTM)               (100, None, 32)           8320      \n",
      "_________________________________________________________________\n",
      "lstm_14 (LSTM)               (100, None, 32)           8320      \n",
      "_________________________________________________________________\n",
      "dense_4 (Dense)              (100, None, 62)           2046      \n",
      "=================================================================\n",
      "Total params: 71,550\n",
      "Trainable params: 71,550\n",
      "Non-trainable params: 0\n",
      "_________________________________________________________________\n"
     ]
    }
   ],
   "source": [
    "model.summary()"
   ]
  },
  {
   "cell_type": "code",
   "execution_count": 0,
   "metadata": {
    "colab": {},
    "colab_type": "code",
    "id": "ezWzN7cjAzW1"
   },
   "outputs": [],
   "source": [
    "sampled_indices = tf.random.categorical(example_batch_predictions[0], num_samples=1)\n",
    "sampled_indices = tf.squeeze(sampled_indices,axis=-1).numpy()"
   ]
  },
  {
   "cell_type": "code",
   "execution_count": 95,
   "metadata": {
    "colab": {
     "base_uri": "https://localhost:8080/",
     "height": 71
    },
    "colab_type": "code",
    "executionInfo": {
     "elapsed": 945,
     "status": "ok",
     "timestamp": 1573111236023,
     "user": {
      "displayName": "정재민",
      "photoUrl": "",
      "userId": "08005430968157913524"
     },
     "user_tz": -540
    },
    "id": "Mf8o2mPfA0-s",
    "outputId": "75f4bd00-6275-45f8-b8ac-f3b2c3c88b65"
   },
   "outputs": [
    {
     "data": {
      "text/plain": [
       "array([34, 58, 12, 34, 23, 24,  3, 45,  9, 42, 19, 61, 52, 21, 57, 33, 27,\n",
       "       34, 46, 42, 22, 11, 60, 19, 26, 38,  7,  0, 33, 34, 26, 55, 21,  3,\n",
       "       58, 45, 19, 49, 32, 20, 60, 26, 58, 37, 17,  9, 23, 57, 26,  9])"
      ]
     },
     "execution_count": 95,
     "metadata": {
      "tags": []
     },
     "output_type": "execute_result"
    }
   ],
   "source": [
    "sampled_indices"
   ]
  },
  {
   "cell_type": "code",
   "execution_count": 96,
   "metadata": {
    "colab": {
     "base_uri": "https://localhost:8080/",
     "height": 107
    },
    "colab_type": "code",
    "executionInfo": {
     "elapsed": 1596,
     "status": "ok",
     "timestamp": 1573111238245,
     "user": {
      "displayName": "정재민",
      "photoUrl": "",
      "userId": "08005430968157913524"
     },
     "user_tz": -540
    },
    "id": "Myair2GXA14h",
    "outputId": "f1fac952-ef12-4222-8a0f-9c56ec416a4c"
   },
   "outputs": [
    {
     "name": "stdout",
     "output_type": "stream",
     "text": [
      "입력: \n",
      " \"flattered the people, who ne'er loved them; and th\"\n",
      "\n",
      "예측된 다음 문자: \n",
      " 'YwBYMN&j;gIzqKvWQYkgLAyIPc.\\nWYPtK&wjInVJyPwbG;MvP;'\n"
     ]
    }
   ],
   "source": [
    "print(\"입력: \\n\", repr(\"\".join(int_to_char[input_example_batch[0]])))\n",
    "print()\n",
    "print(\"예측된 다음 문자: \\n\", repr(\"\".join(int_to_char[sampled_indices])))"
   ]
  },
  {
   "cell_type": "code",
   "execution_count": 97,
   "metadata": {
    "colab": {
     "base_uri": "https://localhost:8080/",
     "height": 53
    },
    "colab_type": "code",
    "executionInfo": {
     "elapsed": 643,
     "status": "ok",
     "timestamp": 1573111238248,
     "user": {
      "displayName": "정재민",
      "photoUrl": "",
      "userId": "08005430968157913524"
     },
     "user_tz": -540
    },
    "id": "fNvwSoebA43f",
    "outputId": "9a2cdf42-8a1c-484d-cf3b-b2efcd4e1f4d"
   },
   "outputs": [
    {
     "name": "stdout",
     "output_type": "stream",
     "text": [
      "예측 배열 크기(shape):  (100, 50, 62)  # (배치 크기, 시퀀스 길이, 어휘 사전 크기\n",
      "스칼라 손실:           4.127204\n"
     ]
    }
   ],
   "source": [
    "def loss(labels, logits):\n",
    "  return tf.keras.losses.sparse_categorical_crossentropy(labels, logits, from_logits=True)\n",
    "\n",
    "example_batch_loss  = loss(target_example_batch, example_batch_predictions)\n",
    "print(\"예측 배열 크기(shape): \", example_batch_predictions.shape, \" # (배치 크기, 시퀀스 길이, 어휘 사전 크기\")\n",
    "print(\"스칼라 손실:          \", example_batch_loss.numpy().mean())"
   ]
  },
  {
   "cell_type": "code",
   "execution_count": 0,
   "metadata": {
    "colab": {},
    "colab_type": "code",
    "id": "RczGWlISA6ga"
   },
   "outputs": [],
   "source": [
    "model.compile(optimizer='adam', loss=loss)"
   ]
  },
  {
   "cell_type": "code",
   "execution_count": 0,
   "metadata": {
    "colab": {},
    "colab_type": "code",
    "id": "0ErMCkrUA8J4"
   },
   "outputs": [],
   "source": [
    "# 체크포인트가 저장될 디렉토리\n",
    "checkpoint_dir = './training_checkpoints'\n",
    "# 체크포인트 파일 이름\n",
    "checkpoint_prefix = os.path.join(checkpoint_dir, \"ckpt_{epoch}\")\n",
    "\n",
    "checkpoint_callback=tf.keras.callbacks.ModelCheckpoint(\n",
    "    filepath=checkpoint_prefix,\n",
    "    save_weights_only=True)"
   ]
  },
  {
   "cell_type": "code",
   "execution_count": 0,
   "metadata": {
    "colab": {},
    "colab_type": "code",
    "id": "Je80oYkKA96P"
   },
   "outputs": [],
   "source": [
    "EPOCHS=100"
   ]
  },
  {
   "cell_type": "code",
   "execution_count": 51,
   "metadata": {
    "colab": {
     "base_uri": "https://localhost:8080/",
     "height": 1000
    },
    "colab_type": "code",
    "executionInfo": {
     "elapsed": 165177,
     "status": "ok",
     "timestamp": 1573110327377,
     "user": {
      "displayName": "정재민",
      "photoUrl": "",
      "userId": "08005430968157913524"
     },
     "user_tz": -540
    },
    "id": "CdMGW568BCbE",
    "outputId": "187ac443-c7f5-4540-81bb-94203719915b"
   },
   "outputs": [
    {
     "name": "stdout",
     "output_type": "stream",
     "text": [
      "Epoch 1/100\n",
      "39/39 [==============================] - 7s 186ms/step - loss: 3.7715\n",
      "Epoch 2/100\n",
      "39/39 [==============================] - 2s 54ms/step - loss: 3.3443\n",
      "Epoch 3/100\n",
      "39/39 [==============================] - 2s 55ms/step - loss: 3.3072\n",
      "Epoch 4/100\n",
      "39/39 [==============================] - 2s 55ms/step - loss: 3.3036\n",
      "Epoch 5/100\n",
      "39/39 [==============================] - 2s 54ms/step - loss: 3.2981\n",
      "Epoch 6/100\n",
      "39/39 [==============================] - 2s 55ms/step - loss: 3.2797\n",
      "Epoch 7/100\n",
      "39/39 [==============================] - 2s 56ms/step - loss: 3.2059\n",
      "Epoch 8/100\n",
      "39/39 [==============================] - 2s 56ms/step - loss: 3.0859\n",
      "Epoch 9/100\n",
      "39/39 [==============================] - 2s 55ms/step - loss: 2.9769\n",
      "Epoch 10/100\n",
      "39/39 [==============================] - 2s 54ms/step - loss: 2.8996\n",
      "Epoch 11/100\n",
      "39/39 [==============================] - 2s 55ms/step - loss: 2.8339\n",
      "Epoch 12/100\n",
      "39/39 [==============================] - 2s 55ms/step - loss: 2.7673\n",
      "Epoch 13/100\n",
      "39/39 [==============================] - 2s 55ms/step - loss: 2.7115\n",
      "Epoch 14/100\n",
      "39/39 [==============================] - 2s 54ms/step - loss: 2.6655\n",
      "Epoch 15/100\n",
      "39/39 [==============================] - 2s 54ms/step - loss: 2.6323\n",
      "Epoch 16/100\n",
      "39/39 [==============================] - 2s 54ms/step - loss: 2.5973\n",
      "Epoch 17/100\n",
      "39/39 [==============================] - 2s 54ms/step - loss: 2.5577\n",
      "Epoch 18/100\n",
      "39/39 [==============================] - 2s 55ms/step - loss: 2.5150\n",
      "Epoch 19/100\n",
      "39/39 [==============================] - 2s 54ms/step - loss: 2.4771\n",
      "Epoch 20/100\n",
      "39/39 [==============================] - 2s 55ms/step - loss: 2.4431\n",
      "Epoch 21/100\n",
      "39/39 [==============================] - 2s 56ms/step - loss: 2.4132\n",
      "Epoch 22/100\n",
      "39/39 [==============================] - 2s 54ms/step - loss: 2.3876\n",
      "Epoch 23/100\n",
      "39/39 [==============================] - 2s 55ms/step - loss: 2.3627\n",
      "Epoch 24/100\n",
      "39/39 [==============================] - 2s 54ms/step - loss: 2.3415\n",
      "Epoch 25/100\n",
      "39/39 [==============================] - 2s 56ms/step - loss: 2.3211\n",
      "Epoch 26/100\n",
      "39/39 [==============================] - 2s 54ms/step - loss: 2.3057\n",
      "Epoch 27/100\n",
      "39/39 [==============================] - 2s 55ms/step - loss: 2.2880\n",
      "Epoch 28/100\n",
      "39/39 [==============================] - 2s 55ms/step - loss: 2.2740\n",
      "Epoch 29/100\n",
      "39/39 [==============================] - 2s 54ms/step - loss: 2.2601\n",
      "Epoch 30/100\n",
      "39/39 [==============================] - 2s 55ms/step - loss: 2.2486\n",
      "Epoch 31/100\n",
      "39/39 [==============================] - 2s 55ms/step - loss: 2.2358\n",
      "Epoch 32/100\n",
      "39/39 [==============================] - 2s 55ms/step - loss: 2.2252\n",
      "Epoch 33/100\n",
      "39/39 [==============================] - 2s 55ms/step - loss: 2.2156\n",
      "Epoch 34/100\n",
      "39/39 [==============================] - 2s 55ms/step - loss: 2.2047\n",
      "Epoch 35/100\n",
      "39/39 [==============================] - 2s 55ms/step - loss: 2.1960\n",
      "Epoch 36/100\n",
      "39/39 [==============================] - 2s 54ms/step - loss: 2.1868\n",
      "Epoch 37/100\n",
      "39/39 [==============================] - 2s 54ms/step - loss: 2.1755\n",
      "Epoch 38/100\n",
      "39/39 [==============================] - 2s 55ms/step - loss: 2.1692\n",
      "Epoch 39/100\n",
      "39/39 [==============================] - 2s 54ms/step - loss: 2.1606\n",
      "Epoch 40/100\n",
      "39/39 [==============================] - 2s 56ms/step - loss: 2.1519\n",
      "Epoch 41/100\n",
      "39/39 [==============================] - 2s 54ms/step - loss: 2.1436\n",
      "Epoch 42/100\n",
      "39/39 [==============================] - 2s 55ms/step - loss: 2.1330\n",
      "Epoch 43/100\n",
      "39/39 [==============================] - 2s 56ms/step - loss: 2.1253\n",
      "Epoch 44/100\n",
      "39/39 [==============================] - 2s 54ms/step - loss: 2.1180\n",
      "Epoch 45/100\n",
      "39/39 [==============================] - 2s 55ms/step - loss: 2.1115\n",
      "Epoch 46/100\n",
      "39/39 [==============================] - 2s 54ms/step - loss: 2.1020\n",
      "Epoch 47/100\n",
      "39/39 [==============================] - 2s 54ms/step - loss: 2.0960\n",
      "Epoch 48/100\n",
      "39/39 [==============================] - 2s 53ms/step - loss: 2.0887\n",
      "Epoch 49/100\n",
      "39/39 [==============================] - 2s 54ms/step - loss: 2.0815\n",
      "Epoch 50/100\n",
      "39/39 [==============================] - 2s 55ms/step - loss: 2.0756\n",
      "Epoch 51/100\n",
      "39/39 [==============================] - 2s 55ms/step - loss: 2.0688\n",
      "Epoch 52/100\n",
      "39/39 [==============================] - 2s 55ms/step - loss: 2.0619\n",
      "Epoch 53/100\n",
      "39/39 [==============================] - 2s 54ms/step - loss: 2.0565\n",
      "Epoch 54/100\n",
      "39/39 [==============================] - 2s 54ms/step - loss: 2.0511\n",
      "Epoch 55/100\n",
      "39/39 [==============================] - 2s 54ms/step - loss: 2.0443\n",
      "Epoch 56/100\n",
      "39/39 [==============================] - 2s 55ms/step - loss: 2.0378\n",
      "Epoch 57/100\n",
      "39/39 [==============================] - 2s 55ms/step - loss: 2.0330\n",
      "Epoch 58/100\n",
      "39/39 [==============================] - 2s 55ms/step - loss: 2.0283\n",
      "Epoch 59/100\n",
      "39/39 [==============================] - 2s 56ms/step - loss: 2.0224\n",
      "Epoch 60/100\n",
      "39/39 [==============================] - 2s 55ms/step - loss: 2.0176\n",
      "Epoch 61/100\n",
      "39/39 [==============================] - 2s 55ms/step - loss: 2.0137\n",
      "Epoch 62/100\n",
      "39/39 [==============================] - 2s 54ms/step - loss: 2.0068\n",
      "Epoch 63/100\n",
      "39/39 [==============================] - 2s 55ms/step - loss: 2.0032\n",
      "Epoch 64/100\n",
      "39/39 [==============================] - 2s 54ms/step - loss: 1.9992\n",
      "Epoch 65/100\n",
      "39/39 [==============================] - 2s 55ms/step - loss: 1.9935\n",
      "Epoch 66/100\n",
      "39/39 [==============================] - 2s 55ms/step - loss: 1.9879\n",
      "Epoch 67/100\n",
      "39/39 [==============================] - 2s 54ms/step - loss: 1.9862\n",
      "Epoch 68/100\n",
      "39/39 [==============================] - 2s 55ms/step - loss: 1.9811\n",
      "Epoch 69/100\n",
      "39/39 [==============================] - 2s 56ms/step - loss: 1.9752\n",
      "Epoch 70/100\n",
      "39/39 [==============================] - 2s 54ms/step - loss: 1.9707\n",
      "Epoch 71/100\n",
      "39/39 [==============================] - 2s 55ms/step - loss: 1.9670\n",
      "Epoch 72/100\n",
      "39/39 [==============================] - 2s 55ms/step - loss: 1.9628\n",
      "Epoch 73/100\n",
      "39/39 [==============================] - 2s 55ms/step - loss: 1.9594\n",
      "Epoch 74/100\n",
      "39/39 [==============================] - 2s 56ms/step - loss: 1.9565\n",
      "Epoch 75/100\n",
      "39/39 [==============================] - 2s 54ms/step - loss: 1.9527\n",
      "Epoch 76/100\n",
      "39/39 [==============================] - 2s 55ms/step - loss: 1.9499\n",
      "Epoch 77/100\n",
      "39/39 [==============================] - 2s 55ms/step - loss: 1.9443\n",
      "Epoch 78/100\n",
      "39/39 [==============================] - 2s 55ms/step - loss: 1.9408\n",
      "Epoch 79/100\n",
      "39/39 [==============================] - 2s 56ms/step - loss: 1.9377\n",
      "Epoch 80/100\n",
      "39/39 [==============================] - 2s 56ms/step - loss: 1.9370\n",
      "Epoch 81/100\n",
      "39/39 [==============================] - 2s 55ms/step - loss: 1.9320\n",
      "Epoch 82/100\n",
      "39/39 [==============================] - 2s 55ms/step - loss: 1.9289\n",
      "Epoch 83/100\n",
      "39/39 [==============================] - 2s 55ms/step - loss: 1.9259\n",
      "Epoch 84/100\n",
      "39/39 [==============================] - 2s 54ms/step - loss: 1.9217\n",
      "Epoch 85/100\n",
      "39/39 [==============================] - 2s 55ms/step - loss: 1.9172\n",
      "Epoch 86/100\n",
      "39/39 [==============================] - 2s 55ms/step - loss: 1.9155\n",
      "Epoch 87/100\n",
      "39/39 [==============================] - 2s 55ms/step - loss: 1.9124\n",
      "Epoch 88/100\n",
      "39/39 [==============================] - 2s 54ms/step - loss: 1.9076\n",
      "Epoch 89/100\n",
      "39/39 [==============================] - 2s 56ms/step - loss: 1.9047\n",
      "Epoch 90/100\n",
      "39/39 [==============================] - 2s 55ms/step - loss: 1.9010\n",
      "Epoch 91/100\n",
      "39/39 [==============================] - 2s 54ms/step - loss: 1.9003\n",
      "Epoch 92/100\n",
      "39/39 [==============================] - 2s 55ms/step - loss: 1.8958\n",
      "Epoch 93/100\n",
      "39/39 [==============================] - 2s 54ms/step - loss: 1.8944\n",
      "Epoch 94/100\n",
      "39/39 [==============================] - 2s 56ms/step - loss: 1.8908\n",
      "Epoch 95/100\n",
      "39/39 [==============================] - 2s 54ms/step - loss: 1.8874\n",
      "Epoch 96/100\n",
      "39/39 [==============================] - 2s 54ms/step - loss: 1.8843\n",
      "Epoch 97/100\n",
      "39/39 [==============================] - 2s 56ms/step - loss: 1.8783\n",
      "Epoch 98/100\n",
      "39/39 [==============================] - 2s 56ms/step - loss: 1.8784\n",
      "Epoch 99/100\n",
      "39/39 [==============================] - 2s 55ms/step - loss: 1.8752\n",
      "Epoch 100/100\n",
      "39/39 [==============================] - 2s 56ms/step - loss: 1.8746\n"
     ]
    }
   ],
   "source": [
    "history = model.fit(dataset, epochs=EPOCHS, callbacks=[checkpoint_callback])"
   ]
  },
  {
   "cell_type": "code",
   "execution_count": 101,
   "metadata": {
    "colab": {
     "base_uri": "https://localhost:8080/",
     "height": 35
    },
    "colab_type": "code",
    "executionInfo": {
     "elapsed": 4563,
     "status": "ok",
     "timestamp": 1573111249746,
     "user": {
      "displayName": "정재민",
      "photoUrl": "",
      "userId": "08005430968157913524"
     },
     "user_tz": -540
    },
    "id": "CXHedOHhBDlQ",
    "outputId": "b645487c-ed85-4f3b-c2ab-22b06e1c14fa"
   },
   "outputs": [
    {
     "data": {
      "text/plain": [
       "'./training_checkpoints/ckpt_100'"
      ]
     },
     "execution_count": 101,
     "metadata": {
      "tags": []
     },
     "output_type": "execute_result"
    }
   ],
   "source": [
    "tf.train.latest_checkpoint(checkpoint_dir)"
   ]
  },
  {
   "cell_type": "code",
   "execution_count": 0,
   "metadata": {
    "colab": {},
    "colab_type": "code",
    "id": "ck9BsmwPvY97"
   },
   "outputs": [],
   "source": [
    "model = tf.keras.Sequential([\n",
    "  tf.keras.layers.Embedding(unique_size, embedding_dim,\n",
    "                            batch_input_shape=[1, None]),\n",
    "  tf.keras.layers.LSTM(rnn_units,\n",
    "                      return_sequences=True,\n",
    "                      stateful=True,\n",
    "                      recurrent_initializer='glorot_uniform'),\n",
    "  tf.keras.layers.LSTM(rnn_units,\n",
    "                      return_sequences=True,\n",
    "                      stateful=True,\n",
    "                      recurrent_initializer='glorot_uniform'),\n",
    "  tf.keras.layers.LSTM(rnn_units,\n",
    "                      return_sequences=True,\n",
    "                      stateful=True,\n",
    "                      recurrent_initializer='glorot_uniform'),\n",
    "  tf.keras.layers.Dense(unique_size)\n",
    "])"
   ]
  },
  {
   "cell_type": "code",
   "execution_count": 0,
   "metadata": {
    "colab": {},
    "colab_type": "code",
    "id": "TWBKpYvyBaeZ"
   },
   "outputs": [],
   "source": [
    "#학습한 weights checkpoint를 통하여 설정\n",
    "model.load_weights(tf.train.latest_checkpoint(checkpoint_dir))\n",
    "\n",
    "model.build(tf.TensorShape([1, None]))"
   ]
  },
  {
   "cell_type": "code",
   "execution_count": 108,
   "metadata": {
    "colab": {
     "base_uri": "https://localhost:8080/",
     "height": 341
    },
    "colab_type": "code",
    "executionInfo": {
     "elapsed": 1045,
     "status": "ok",
     "timestamp": 1573111313268,
     "user": {
      "displayName": "정재민",
      "photoUrl": "",
      "userId": "08005430968157913524"
     },
     "user_tz": -540
    },
    "id": "gUzpjBmQBcNN",
    "outputId": "7a979bcf-15b5-4e22-ece4-4ed348fd0302"
   },
   "outputs": [
    {
     "name": "stdout",
     "output_type": "stream",
     "text": [
      "Model: \"sequential_5\"\n",
      "_________________________________________________________________\n",
      "Layer (type)                 Output Shape              Param #   \n",
      "=================================================================\n",
      "embedding_5 (Embedding)      (1, None, 256)            15872     \n",
      "_________________________________________________________________\n",
      "lstm_15 (LSTM)               (1, None, 32)             36992     \n",
      "_________________________________________________________________\n",
      "lstm_16 (LSTM)               (1, None, 32)             8320      \n",
      "_________________________________________________________________\n",
      "lstm_17 (LSTM)               (1, None, 32)             8320      \n",
      "_________________________________________________________________\n",
      "dense_5 (Dense)              (1, None, 62)             2046      \n",
      "=================================================================\n",
      "Total params: 71,550\n",
      "Trainable params: 71,550\n",
      "Non-trainable params: 0\n",
      "_________________________________________________________________\n"
     ]
    }
   ],
   "source": [
    "model.summary()"
   ]
  },
  {
   "cell_type": "code",
   "execution_count": 0,
   "metadata": {
    "colab": {},
    "colab_type": "code",
    "id": "a1jrErMwBetl"
   },
   "outputs": [],
   "source": [
    "def generate_text(model, start_string):\n",
    "  # 평가 단계 (학습된 모델을 사용하여 텍스트 생성)\n",
    "\n",
    "  # 생성할 문자의 수\n",
    "  num_generate = 1000\n",
    "\n",
    "  # 시작 문자열을 숫자로 변환(벡터화)\n",
    "  input_eval = [char_to_int[s] for s in start_string]\n",
    "  input_eval = tf.expand_dims(input_eval, 0)\n",
    "\n",
    "  # 결과를 저장할 빈 문자열\n",
    "  text_generated = []\n",
    "\n",
    "  # 온도가 낮으면 더 예측 가능한 텍스트가 됩니다.\n",
    "  # 온도가 높으면 더 의외의 텍스트가 됩니다.\n",
    "  # 최적의 세팅을 찾기 위한 실험\n",
    "  temperature = 1.0\n",
    "\n",
    "  # 여기에서 배치 크기 == 1\n",
    "  model.reset_states()\n",
    "  for i in range(num_generate):\n",
    "      predictions = model(input_eval)\n",
    "      # 배치 차원 제거\n",
    "      predictions = tf.squeeze(predictions, 0)\n",
    "\n",
    "      # 범주형 분포를 사용하여 모델에서 리턴한 단어 예측\n",
    "      predictions = predictions / temperature\n",
    "      predicted_id = tf.random.categorical(predictions, num_samples=1)[-1,0].numpy()\n",
    "\n",
    "      # 예측된 단어를 다음 입력으로 모델에 전달\n",
    "      # 이전 은닉 상태와 함께\n",
    "      input_eval = tf.expand_dims([predicted_id], 0)\n",
    "\n",
    "      text_generated.append(int_to_char[predicted_id])\n",
    "\n",
    "  return (start_string + ''.join(text_generated))"
   ]
  },
  {
   "cell_type": "code",
   "execution_count": 110,
   "metadata": {
    "colab": {
     "base_uri": "https://localhost:8080/",
     "height": 829
    },
    "colab_type": "code",
    "executionInfo": {
     "elapsed": 14684,
     "status": "ok",
     "timestamp": 1573111330389,
     "user": {
      "displayName": "정재민",
      "photoUrl": "",
      "userId": "08005430968157913524"
     },
     "user_tz": -540
    },
    "id": "VpIEj0LIBgpf",
    "outputId": "17602bc8-dc1b-4d7a-b565-edc48e768507"
   },
   "outputs": [
    {
     "name": "stdout",
     "output_type": "stream",
     "text": [
      "ROMEO: eyll thy in sivence, astancere\n",
      "Is deanglising ucance.\n",
      "\n",
      "Fe\n",
      "A:\n",
      "Why you lame.\n",
      "\n",
      "QUEENRY:\n",
      "God if wroulnter\n",
      "The mible diont;\n",
      "And brith.\n",
      "\n",
      "SICINIUS:\n",
      "Apcom sigh if nos befe'd sont; on deapes to laid wither your thy dae ye poRHENR:\n",
      "Thul. What your estey, brant.\n",
      "\n",
      "S'd under!\n",
      "Theine the gorse-have of stersed cor ren wron.\n",
      "\n",
      "Fir.\n",
      "\n",
      "CORIOLNNIUS:\n",
      "Rithist thinsi the med. Where, shat, Gady, ham he is roash\n",
      "And cour actitous goattitire I hep the a cat of. Sey gmine the hid with -Ou\n",
      "If have spever evem my.\n",
      "\n",
      "BRUS:\n",
      "Onct, if, itter gord,\n",
      "Iud nowewes hagtirens.\n",
      "\n",
      "Firsiey his he rash of son Rome belindters, in reath but sweir.\n",
      "\n",
      "QUEEND Inlak seroth thele hay it rakise worplinciomerons with\n",
      "Tham Marcond.\n",
      "\n",
      "SICINIUS:\n",
      "Thougene!\n",
      "\n",
      "Fy buhousteroun that many.\n",
      "\n",
      "\n",
      "VOLUERIORSS:\n",
      "To perven my of thee. Yer you wrace he have ofpelne\n",
      "Thou the ans's hoou, know stun his mone tere; me is and hill abcewes acall it water ingous, fel stercgerang freer in forsort, are your tomes and ilhits, with Seed you; here cond his geckster and let h\n"
     ]
    }
   ],
   "source": [
    "print(generate_text(model, start_string=u\"ROMEO: \"))"
   ]
  },
  {
   "cell_type": "code",
   "execution_count": 111,
   "metadata": {
    "colab": {
     "base_uri": "https://localhost:8080/",
     "height": 279
    },
    "colab_type": "code",
    "executionInfo": {
     "elapsed": 9714,
     "status": "ok",
     "timestamp": 1573111330390,
     "user": {
      "displayName": "정재민",
      "photoUrl": "",
      "userId": "08005430968157913524"
     },
     "user_tz": -540
    },
    "id": "xLm7xmpwcq4q",
    "outputId": "16844e91-2455-41d2-ac75-4bce57c9642b"
   },
   "outputs": [
    {
     "data": {
      "image/png": "[encoded data removed]",
      "text/plain": [
       "<Figure size 432x288 with 1 Axes>"
      ]
     },
     "metadata": {
      "tags": []
     },
     "output_type": "display_data"
    }
   ],
   "source": [
    "import matplotlib.pyplot as plt\n",
    "\n",
    "plt.plot(history.history['loss'])\n",
    "plt.xlabel('epoch')\n",
    "plt.ylabel('loss')\n",
    "plt.show()\n"
   ]
  },
  {
   "cell_type": "code",
   "execution_count": 0,
   "metadata": {
    "colab": {},
    "colab_type": "code",
    "id": "9jb-26T4dlUR"
   },
   "outputs": [],
   "source": []
  }
 ],
 "metadata": {
  "accelerator": "GPU",
  "colab": {
   "collapsed_sections": [],
   "name": "LSTM.ipynb",
   "provenance": []
  },
  "kernelspec": {
   "display_name": "Python 3",
   "language": "python",
   "name": "python3"
  },
  "language_info": {
   "codemirror_mode": {
    "name": "ipython",
    "version": 3
   },
   "file_extension": ".py",
   "mimetype": "text/x-python",
   "name": "python",
   "nbconvert_exporter": "python",
   "pygments_lexer": "ipython3",
   "version": "3.7.4"
  }
 },
 "nbformat": 4,
 "nbformat_minor": 1
}
