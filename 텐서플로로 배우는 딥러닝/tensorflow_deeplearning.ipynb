{
 "cells": [
  {
   "cell_type": "code",
   "execution_count": 2,
   "metadata": {},
   "outputs": [],
   "source": [
    "import numpy as np\n",
    "import tensorflow as tf"
   ]
  },
  {
   "cell_type": "code",
   "execution_count": 3,
   "metadata": {},
   "outputs": [
    {
     "data": {
      "text/plain": [
       "'2.0.0-rc1'"
      ]
     },
     "execution_count": 3,
     "metadata": {},
     "output_type": "execute_result"
    }
   ],
   "source": [
    "tf.__version__"
   ]
  },
  {
   "cell_type": "code",
   "execution_count": 4,
   "metadata": {},
   "outputs": [
    {
     "name": "stdout",
     "output_type": "stream",
     "text": [
      "(16000, 3)\n",
      "(16000, 8)\n",
      "(4000, 3)\n",
      "(4000, 8)\n"
     ]
    }
   ],
   "source": [
    "x_train = []\n",
    "t_train = []\n",
    "x_test = []\n",
    "t_test = []\n",
    "\n",
    "mu, sigma = 1, 0.1\n",
    "\n",
    "for i in range(0,2000):\n",
    "    data = np.array([0,0,0])- np.random.normal(mu, sigma, 3)\n",
    "    x_train.append(data)\n",
    "    t_train.append([1,0,0,0,0,0,0,0])\n",
    "    \n",
    "    data = np.array([0,0,1])- np.random.normal(mu, sigma, 3)\n",
    "    x_train.append(data)\n",
    "    t_train.append([0,1,0,0,0,0,0,0])      \n",
    "    \n",
    "    data = np.array([0,1,0])- np.random.normal(mu, sigma, 3)\n",
    "    x_train.append(data)\n",
    "    t_train.append([0,0,1,0,0,0,0,0])\n",
    "      \n",
    "    data = np.array([0,1,1])- np.random.normal(mu, sigma, 3)\n",
    "    x_train.append(data)\n",
    "    t_train.append([0,0,0,1,0,0,0,0])\n",
    "    \n",
    "    data = np.array([1,0,0])- np.random.normal(mu, sigma, 3)\n",
    "    x_train.append(data)\n",
    "    t_train.append([0,0,0,0,1,0,0,0])\n",
    "     \n",
    "    data = np.array([1,0,1])- np.random.normal(mu, sigma, 3)\n",
    "    x_train.append(data)\n",
    "    t_train.append([0,0,0,0,0,1,0,0])\n",
    "    \n",
    "    data = np.array([1,1,0])- np.random.normal(mu, sigma, 3)\n",
    "    x_train.append(data)\n",
    "    t_train.append([0,0,0,0,0,0,1,0])\n",
    "    \n",
    "    data = np.array([1,1,1])- np.random.normal(mu, sigma, 3)\n",
    "    x_train.append(data)\n",
    "    t_train.append([0,0,0,0,0,0,0,1])\n",
    "\n",
    "for i in range(0,500):\n",
    "    data = np.array([0,0,0])- np.random.normal(mu, sigma, 3)\n",
    "    x_test.append(data)\n",
    "    t_test.append([1,0,0,0,0,0,0,0])\n",
    "    \n",
    "    data = np.array([0,0,1])- np.random.normal(mu, sigma, 3)\n",
    "    x_test.append(data)\n",
    "    t_test.append([0,1,0,0,0,0,0,0])\n",
    "    \n",
    "    data = np.array([0,1,0])- np.random.normal(mu, sigma, 3)\n",
    "    x_test.append(data)\n",
    "    t_test.append([0,0,1,0,0,0,0,0])\n",
    "    \n",
    "    data = np.array([0,1,1])- np.random.normal(mu, sigma, 3)\n",
    "    x_test.append(data)\n",
    "    t_test.append([0,0,0,1,0,0,0,0])\n",
    "    \n",
    "    data = np.array([1,0,0])- np.random.normal(mu, sigma, 3)\n",
    "    x_test.append(data)\n",
    "    t_test.append([0,0,0,0,1,0,0,0])\n",
    "    \n",
    "    data = np.array([1,0,1])- np.random.normal(mu, sigma, 3)\n",
    "    x_test.append(data)\n",
    "    t_test.append([0,0,0,0,0,1,0,0])\n",
    "    \n",
    "    data = np.array([1,1,0])- np.random.normal(mu, sigma, 3)\n",
    "    x_test.append(data)\n",
    "    t_test.append([0,0,0,0,0,0,1,0])\n",
    "    \n",
    "    data = np.array([1,1,1])- np.random.normal(mu, sigma, 3)\n",
    "    x_test.append(data)\n",
    "    t_test.append([0,0,0,0,0,0,0,1])\n",
    "\n",
    "\n",
    "x_train = np.array(x_train)\n",
    "t_train = np.array(t_train)\n",
    "\n",
    "x_test = np.array(x_test)\n",
    "t_test = np.array(t_test)\n",
    "\n",
    "print(x_train.shape)\n",
    "print(t_train.shape)\n",
    "\n",
    "print(x_test.shape)\n",
    "print(t_test.shape)"
   ]
  },
  {
   "cell_type": "code",
   "execution_count": 6,
   "metadata": {},
   "outputs": [],
   "source": [
    "train_ds = tf.data.Dataset.from_tensor_slices(\n",
    "    (x_train, t_train)).shuffle(10000).batch(32)\n",
    "test_ds = tf.data.Dataset.from_tensor_slices((x_test, t_test)).batch(32)"
   ]
  },
  {
   "cell_type": "markdown",
   "metadata": {},
   "source": [
    "## Keras initializers\n",
    "\n",
    "- glorot_normal : Xavior init Gaussian\n",
    "- glorot_uniform : Xavior init Uniform\n",
    "\n",
    "\n",
    "- he_normal : He init Gaussian\n",
    "- he_uniform : He init Uniform"
   ]
  },
  {
   "cell_type": "code",
   "execution_count": 7,
   "metadata": {},
   "outputs": [],
   "source": [
    "kernel_initializer1 = tf.keras.initializers.he_normal(seed=None)\n",
    "kernel_initializer2 = tf.keras.initializers.he_uniform(seed=None)\n",
    "kernel_initializer3 = tf.keras.initializers.glorot_normal(seed=None)\n",
    "kernel_initializer4 = tf.keras.initializers.glorot_uniform(seed=None)"
   ]
  },
  {
   "cell_type": "code",
   "execution_count": 8,
   "metadata": {},
   "outputs": [],
   "source": [
    "model = tf.keras.Sequential([\n",
    "    tf.keras.Input(shape=3),\n",
    "    tf.keras.layers.Dense(5,\n",
    "                          kernel_initializer=kernel_initializer2,\n",
    "                          activation='relu'),\n",
    "    tf.keras.layers.Dense(8,\n",
    "                          kernel_initializer=kernel_initializer2,\n",
    "                          activation='softmax')\n",
    "])\n",
    "\n",
    "loss_object = tf.keras.losses.BinaryCrossentropy()\n",
    "optimizer = tf.keras.optimizers.SGD()"
   ]
  },
  {
   "cell_type": "code",
   "execution_count": 9,
   "metadata": {},
   "outputs": [],
   "source": [
    "train_loss = tf.keras.metrics.Mean(name='train_loss')\n",
    "train_accuracy = tf.keras.metrics.BinaryAccuracy(name='train_accuracy')\n",
    "\n",
    "test_loss = tf.keras.metrics.Mean(name='test_loss')\n",
    "test_accuracy = tf.keras.metrics.BinaryAccuracy(name='test_accuracy')"
   ]
  },
  {
   "cell_type": "code",
   "execution_count": 10,
   "metadata": {},
   "outputs": [
    {
     "name": "stdout",
     "output_type": "stream",
     "text": [
      "Model: \"sequential\"\n",
      "_________________________________________________________________\n",
      "Layer (type)                 Output Shape              Param #   \n",
      "=================================================================\n",
      "dense (Dense)                (None, 5)                 20        \n",
      "_________________________________________________________________\n",
      "dense_1 (Dense)              (None, 8)                 48        \n",
      "=================================================================\n",
      "Total params: 68\n",
      "Trainable params: 68\n",
      "Non-trainable params: 0\n",
      "_________________________________________________________________\n"
     ]
    }
   ],
   "source": [
    "model.summary()"
   ]
  },
  {
   "cell_type": "code",
   "execution_count": 11,
   "metadata": {},
   "outputs": [],
   "source": [
    "@tf.function\n",
    "def train_step(data, labels):\n",
    "    with tf.GradientTape() as tape:\n",
    "        predictions = model(data)\n",
    "        loss = loss_object(labels, predictions)\n",
    "    gradients = tape.gradient(loss, model.trainable_variables)\n",
    "    optimizer.apply_gradients(zip(gradients, model.trainable_variables))\n",
    "\n",
    "    train_loss(loss)\n",
    "    train_accuracy(labels, predictions)\n",
    "    \n",
    "@tf.function\n",
    "def test_step(data, labels):\n",
    "    predictions = model(data)\n",
    "    t_loss = loss_object(labels, predictions)\n",
    "\n",
    "    test_loss(t_loss)\n",
    "    test_accuracy(labels, predictions)"
   ]
  },
  {
   "cell_type": "code",
   "execution_count": 12,
   "metadata": {
    "scrolled": true
   },
   "outputs": [
    {
     "name": "stderr",
     "output_type": "stream",
     "text": [
      "WARNING: Logging before flag parsing goes to stderr.\n",
      "W1004 19:47:20.293593 25856 base_layer.py:1814] Layer dense is casting an input tensor from dtype float64 to the layer's dtype of float32, which is new behavior in TensorFlow 2.  The layer has dtype float32 because it's dtype defaults to floatx.\n",
      "\n",
      "If you intended to run this layer in float32, you can safely ignore this warning. If in doubt, this warning is likely only an issue if you are porting a TensorFlow 1.X model to TensorFlow 2.\n",
      "\n",
      "To change all layers to have dtype float64 by default, call `tf.keras.backend.set_floatx('float64')`. To change just this layer, pass dtype='float64' to the layer constructor. If you are the author of this layer, you can disable autocasting by passing autocast=False to the base Layer constructor.\n",
      "\n",
      "W1004 19:47:20.355593 25856 deprecation.py:323] From C:\\Users\\woals\\AppData\\Local\\conda\\conda\\envs\\alpha\\lib\\site-packages\\tensorflow_core\\python\\ops\\math_grad.py:1394: where (from tensorflow.python.ops.array_ops) is deprecated and will be removed in a future version.\n",
      "Instructions for updating:\n",
      "Use tf.where in 2.0, which has the same broadcast rule as np.where\n"
     ]
    },
    {
     "name": "stdout",
     "output_type": "stream",
     "text": [
      "에포크: 1, 손실: 0.44052863121032715, 정확도: 87.4234390258789, 테스트 손실: 0.4085606038570404, 테스트 정확도: 87.5\n",
      "에포크: 2, 손실: 0.41530168056488037, 정확도: 87.46171569824219, 테스트 손실: 0.3922309875488281, 테스트 정확도: 87.5\n",
      "에포크: 3, 손실: 0.39952677488327026, 정확도: 87.47447967529297, 테스트 손실: 0.38197362422943115, 테스트 정확도: 87.5\n",
      "에포크: 4, 손실: 0.3889743387699127, 정확도: 87.4810562133789, 테스트 손실: 0.3748856484889984, 테스트 정확도: 87.50077819824219\n",
      "에포크: 5, 손실: 0.38133704662323, 정확도: 87.48780822753906, 테스트 손실: 0.36945146322250366, 테스트 정확도: 87.50875091552734\n",
      "에포크: 6, 손실: 0.37528079748153687, 정확도: 87.51666259765625, 테스트 손실: 0.3648800849914551, 테스트 정확도: 87.58229064941406\n",
      "에포크: 7, 손실: 0.37015777826309204, 정확도: 87.60356903076172, 테스트 손실: 0.3608230948448181, 테스트 정확도: 87.70803833007812\n",
      "에포크: 8, 손실: 0.36563464999198914, 정확도: 87.72197723388672, 테스트 손실: 0.35709598660469055, 테스트 정확도: 87.83711242675781\n",
      "에포크: 9, 손실: 0.36151033639907837, 정확도: 87.84253692626953, 테스트 손실: 0.35358095169067383, 테스트 정확도: 87.95173645019531\n",
      "에포크: 10, 손실: 0.35765114426612854, 정확도: 87.95132446289062, 테스트 손실: 0.3501984477043152, 테스트 정확도: 88.05187225341797\n",
      "에포크: 11, 손실: 0.3539695143699646, 정확도: 88.04595184326172, 테스트 손실: 0.346902996301651, 테스트 정확도: 88.13892364501953\n",
      "에포크: 12, 손실: 0.3504156768321991, 정확도: 88.12968444824219, 테스트 손실: 0.343670129776001, 테스트 정확도: 88.21666717529297\n",
      "에포크: 13, 손실: 0.34696319699287415, 정확도: 88.20931243896484, 테스트 손실: 0.3404908776283264, 테스트 정확도: 88.2956771850586\n",
      "에포크: 14, 손실: 0.34359538555145264, 정확도: 88.2943115234375, 테스트 손실: 0.33736008405685425, 테스트 정확도: 88.3841552734375\n",
      "에포크: 15, 손실: 0.3402957320213318, 정확도: 88.39125061035156, 테스트 손실: 0.33426156640052795, 테스트 정확도: 88.48603820800781\n",
      "에포크: 16, 손실: 0.3370403051376343, 정확도: 88.4969711303711, 테스트 손실: 0.3311747908592224, 테스트 정확도: 88.5947265625\n",
      "에포크: 17, 손실: 0.3338092863559723, 정확도: 88.60372161865234, 테스트 손실: 0.32809221744537354, 테스트 정확도: 88.70073699951172\n",
      "에포크: 18, 손실: 0.3305998146533966, 정확도: 88.70694732666016, 테스트 손실: 0.3250179588794708, 테스트 정확도: 88.80225372314453\n",
      "에포크: 19, 손실: 0.32741579413414, 정확도: 88.80353546142578, 테스트 손실: 0.32195866107940674, 테스트 정확도: 88.89654541015625\n",
      "에포크: 20, 손실: 0.32426127791404724, 정확도: 88.89449310302734, 테스트 손실: 0.3189205229282379, 테스트 정확도: 88.99124908447266\n",
      "에포크: 21, 손실: 0.3211406469345093, 정확도: 88.99017333984375, 테스트 손실: 0.31590956449508667, 테스트 정확도: 89.09196472167969\n",
      "에포크: 22, 손실: 0.3180578052997589, 정확도: 89.09520721435547, 테스트 손실: 0.312930703163147, 테스트 정확도: 89.20014190673828\n",
      "에포크: 23, 손실: 0.31501635909080505, 정확도: 89.205810546875, 테스트 손실: 0.3099883794784546, 테스트 정확도: 89.31317901611328\n",
      "에포크: 24, 손실: 0.31201913952827454, 정확도: 89.31673431396484, 테스트 손실: 0.30708593130111694, 테스트 정확도: 89.423828125\n",
      "에포크: 25, 손실: 0.30906784534454346, 정확도: 89.42430877685547, 테스트 손실: 0.30422553420066833, 테스트 정확도: 89.52874755859375\n",
      "에포크: 26, 손실: 0.3061634302139282, 정확도: 89.52619934082031, 테스트 손실: 0.3014077842235565, 테스트 정확도: 89.62680053710938\n",
      "에포크: 27, 손실: 0.30330514907836914, 정확도: 89.6217269897461, 테스트 손실: 0.29863205552101135, 테스트 정확도: 89.71863555908203\n",
      "에포크: 28, 손실: 0.30049094557762146, 정확도: 89.71160888671875, 테스트 손실: 0.2958965599536896, 테스트 정확도: 89.80524444580078\n",
      "에포크: 29, 손실: 0.29771971702575684, 정확도: 89.79558563232422, 테스트 손실: 0.29319891333580017, 테스트 정확도: 89.88631439208984\n",
      "에포크: 30, 손실: 0.29498741030693054, 정확도: 89.87422180175781, 테스트 손실: 0.2905363142490387, 테스트 정확도: 89.96229553222656\n",
      "에포크: 31, 손실: 0.2922907769680023, 정확도: 89.94795989990234, 테스트 손실: 0.2879054844379425, 테스트 정확도: 90.0335693359375\n",
      "에포크: 32, 손실: 0.2896270155906677, 정확도: 90.0172119140625, 테스트 손실: 0.2853034436702728, 테스트 정확도: 90.1006851196289\n",
      "에포크: 33, 손실: 0.28699299693107605, 정확도: 90.08236694335938, 테스트 손실: 0.2827276885509491, 테스트 정확도: 90.16373443603516\n",
      "에포크: 34, 손실: 0.28438618779182434, 정확도: 90.14375305175781, 테스트 손실: 0.2801761329174042, 테스트 정확도: 90.22315979003906\n",
      "에포크: 35, 손실: 0.28180474042892456, 정확도: 90.20169067382812, 테스트 손실: 0.2776477038860321, 테스트 정확도: 90.2791976928711\n",
      "에포크: 36, 손실: 0.279247909784317, 정확도: 90.25703430175781, 테스트 손실: 0.2751420736312866, 테스트 정확도: 90.33576202392578\n",
      "에포크: 37, 손실: 0.27671581506729126, 정확도: 90.32135009765625, 테스트 손실: 0.2726595103740692, 테스트 정확도: 90.4068374633789\n",
      "에포크: 38, 손실: 0.2742091417312622, 정확도: 90.39761352539062, 테스트 손실: 0.27020129561424255, 테스트 정확도: 90.48561096191406\n",
      "에포크: 39, 손실: 0.27172937989234924, 정확도: 90.47953033447266, 테스트 손실: 0.2677696943283081, 테스트 정확도: 90.57259368896484\n",
      "에포크: 40, 손실: 0.2692781686782837, 정확도: 90.57057189941406, 테스트 손실: 0.2653668522834778, 테스트 정확도: 90.66593933105469\n",
      "에포크: 41, 손실: 0.26685822010040283, 정확도: 90.66534423828125, 테스트 손실: 0.2629947364330292, 테스트 정확도: 90.76212310791016\n",
      "에포크: 42, 손실: 0.264471173286438, 정확도: 90.7611083984375, 테스트 손실: 0.2606555223464966, 테스트 정확도: 90.85773468017578\n",
      "에포크: 43, 손실: 0.262119323015213, 정확도: 90.85603332519531, 테스트 손실: 0.2583511471748352, 테스트 정확도: 90.95188903808594\n",
      "에포크: 44, 손실: 0.2598038613796234, 정확도: 90.94902038574219, 테스트 손실: 0.2560833990573883, 테스트 정확도: 91.04417419433594\n",
      "에포크: 45, 손실: 0.2575265169143677, 정확도: 91.04022216796875, 테스트 손실: 0.25385332107543945, 테스트 정확도: 91.13417053222656\n",
      "에포크: 46, 손실: 0.25528842210769653, 정확도: 91.12885284423828, 테스트 손실: 0.25166216492652893, 테스트 정확도: 91.22099304199219\n",
      "에포크: 47, 손실: 0.25309062004089355, 정확도: 91.21451568603516, 테스트 손실: 0.24951080977916718, 테스트 정확도: 91.30471801757812\n",
      "에포크: 48, 손실: 0.2509334683418274, 정확도: 91.29714965820312, 테스트 손실: 0.2473994493484497, 테스트 정확도: 91.3853530883789\n",
      "에포크: 49, 손실: 0.2488170713186264, 정확도: 91.37670135498047, 테스트 손실: 0.24532833695411682, 테스트 정확도: 91.46320343017578\n",
      "에포크: 50, 손실: 0.24674130976200104, 정확도: 91.45345306396484, 테스트 손실: 0.2432975023984909, 테스트 정확도: 91.53825378417969\n",
      "에포크: 51, 손실: 0.24470631778240204, 정확도: 91.52740478515625, 테스트 손실: 0.2413066178560257, 테스트 정확도: 91.61054229736328\n",
      "에포크: 52, 손실: 0.24271158874034882, 정확도: 91.59861755371094, 테스트 손실: 0.2393554449081421, 테스트 정확도: 91.68016815185547\n",
      "에포크: 53, 손실: 0.24075694382190704, 정확도: 91.66735076904297, 테스트 손실: 0.2374434769153595, 테스트 정확도: 91.7472915649414\n",
      "에포크: 54, 손실: 0.2388414889574051, 정확도: 91.73356628417969, 테스트 손실: 0.23557010293006897, 테스트 정확도: 91.81204223632812\n",
      "에포크: 55, 손실: 0.2369648814201355, 정확도: 91.79747009277344, 테스트 손실: 0.23373468220233917, 테스트 정확도: 91.87443542480469\n",
      "에포크: 56, 손실: 0.2351260483264923, 정확도: 91.85922241210938, 테스트 손실: 0.23193639516830444, 테스트 정확도: 91.93476104736328\n",
      "에포크: 57, 손실: 0.23332473635673523, 정확도: 91.91883087158203, 테스트 손실: 0.23017458617687225, 테스트 정확도: 91.99309539794922\n",
      "에포크: 58, 손실: 0.23155976831912994, 정확도: 91.97645568847656, 테스트 손실: 0.22844834625720978, 테스트 정확도: 92.0494613647461\n",
      "에포크: 59, 손실: 0.22983042895793915, 정확도: 92.03211975097656, 테스트 손실: 0.22675684094429016, 테스트 정확도: 92.1040267944336\n",
      "에포크: 60, 손실: 0.22813522815704346, 정확도: 92.08595275878906, 테스트 손실: 0.22509895265102386, 테스트 정확도: 92.15687561035156\n",
      "에포크: 61, 손실: 0.22647404670715332, 정확도: 92.1380615234375, 테스트 손실: 0.2234739065170288, 테스트 정확도: 92.20799255371094\n",
      "에포크: 62, 손실: 0.22484524548053741, 정확도: 92.18852233886719, 테스트 손실: 0.22188067436218262, 테스트 정확도: 92.25740814208984\n",
      "에포크: 63, 손실: 0.22324804961681366, 정확도: 92.23738098144531, 테스트 손실: 0.2203182727098465, 테스트 정확도: 92.30535888671875\n",
      "에포크: 64, 손실: 0.22168178856372833, 정확도: 92.28471374511719, 테스트 손실: 0.21878564357757568, 테스트 정확도: 92.351806640625\n",
      "에포크: 65, 손실: 0.22014491260051727, 정확도: 92.33056640625, 테스트 손실: 0.21728180348873138, 테스트 정확도: 92.3968276977539\n",
      "에포크: 66, 손실: 0.21863658726215363, 정확도: 92.3750228881836, 테스트 손실: 0.21580569446086884, 테스트 정확도: 92.44048309326172\n",
      "에포크: 67, 손실: 0.21715587377548218, 정확도: 92.41815948486328, 테스트 손실: 0.21435624361038208, 테스트 정확도: 92.48283386230469\n",
      "에포크: 68, 손실: 0.21570166945457458, 정확도: 92.45999145507812, 테스트 손실: 0.21293237805366516, 테스트 정확도: 92.52384948730469\n",
      "에포크: 69, 손실: 0.2142726331949234, 정확도: 92.5006103515625, 테스트 손실: 0.21153301000595093, 테스트 정확도: 92.56363677978516\n",
      "에포크: 70, 손실: 0.21286775171756744, 정확도: 92.54005432128906, 테스트 손실: 0.21015697717666626, 테스트 정확도: 92.60227966308594\n",
      "에포크: 71, 손실: 0.21148592233657837, 정확도: 92.5783462524414, 테스트 손실: 0.20880316197872162, 테스트 정확도: 92.63983154296875\n",
      "에포크: 72, 손실: 0.210126131772995, 정확도: 92.61556243896484, 테스트 손실: 0.20747050642967224, 테스트 정확도: 92.67634582519531\n",
      "에포크: 73, 손실: 0.20878726243972778, 정확도: 92.6517333984375, 테스트 손실: 0.20615774393081665, 테스트 정확도: 92.71186065673828\n",
      "에포크: 74, 손실: 0.2074679136276245, 정확도: 92.68692779541016, 테스트 손실: 0.2048637568950653, 테스트 정확도: 92.74636840820312\n"
     ]
    },
    {
     "name": "stdout",
     "output_type": "stream",
     "text": [
      "에포크: 75, 손실: 0.20616717636585236, 정확도: 92.72117614746094, 테스트 손실: 0.20358751714229584, 테스트 정확도: 92.77991485595703\n",
      "에포크: 76, 손실: 0.204883873462677, 정확도: 92.75452423095703, 테스트 손실: 0.2023276835680008, 테스트 정확도: 92.81253814697266\n",
      "에포크: 77, 손실: 0.203616663813591, 정확도: 92.78699493408203, 테스트 손실: 0.2010832577943802, 테스트 정확도: 92.84432220458984\n",
      "에포크: 78, 손실: 0.20236451923847198, 정확도: 92.81861114501953, 테스트 손실: 0.1998530924320221, 테스트 정확도: 92.87527465820312\n",
      "에포크: 79, 손실: 0.20112645626068115, 정확도: 92.84943389892578, 테스트 손실: 0.19863605499267578, 테스트 정확도: 92.90546417236328\n",
      "에포크: 80, 손실: 0.19990119338035583, 정확도: 92.87947845458984, 테스트 손실: 0.19743096828460693, 테스트 정확도: 92.93488311767578\n",
      "에포크: 81, 손실: 0.1986876130104065, 정확도: 92.90876007080078, 테스트 손실: 0.19623686373233795, 테스트 정확도: 92.96358489990234\n",
      "에포크: 82, 손실: 0.1974848210811615, 정확도: 92.93731689453125, 테스트 손실: 0.19505275785923004, 테스트 정확도: 92.9915771484375\n",
      "에포크: 83, 손실: 0.19629180431365967, 정확도: 92.96516418457031, 테스트 손실: 0.193877711892128, 테스트 정확도: 93.0188217163086\n",
      "에포크: 84, 손실: 0.19510751962661743, 정확도: 92.99269104003906, 테스트 손실: 0.19271066784858704, 테스트 정확도: 93.0462417602539\n",
      "에포크: 85, 손실: 0.19393126666545868, 정확도: 93.02114868164062, 테스트 손실: 0.1915511041879654, 테스트 정확도: 93.07563018798828\n",
      "에포크: 86, 손실: 0.19276228547096252, 정확도: 93.0520248413086, 테스트 손실: 0.1903982013463974, 테스트 정확도: 93.1072998046875\n",
      "에포크: 87, 손실: 0.19159960746765137, 정확도: 93.08547973632812, 테스트 손실: 0.18925143778324127, 테스트 정확도: 93.14177703857422\n",
      "에포크: 88, 손실: 0.19044309854507446, 정확도: 93.12129211425781, 테스트 손실: 0.1881101131439209, 테스트 정확도: 93.17784118652344\n",
      "에포크: 89, 손실: 0.1892923265695572, 정확도: 93.1585922241211, 테스트 손실: 0.18697382509708405, 테스트 정확도: 93.2153091430664\n",
      "에포크: 90, 손실: 0.18814696371555328, 정확도: 93.19654846191406, 테스트 손실: 0.18584242463111877, 테스트 정확도: 93.25312042236328\n",
      "에포크: 91, 손실: 0.18700595200061798, 정확도: 93.23477172851562, 테스트 손실: 0.18471544981002808, 테스트 정확도: 93.29065704345703\n",
      "에포크: 92, 손실: 0.18587008118629456, 정확도: 93.27271270751953, 테스트 손실: 0.1835929900407791, 테스트 정확도: 93.3278579711914\n",
      "에포크: 93, 손실: 0.184738889336586, 정확도: 93.31007385253906, 테스트 손실: 0.1824747622013092, 테스트 정확도: 93.36454772949219\n",
      "에포크: 94, 손실: 0.1836123913526535, 정확도: 93.34673309326172, 테스트 손실: 0.18136078119277954, 테스트 정확도: 93.40059661865234\n",
      "에포크: 95, 손실: 0.18248999118804932, 정확도: 93.38265991210938, 테스트 손실: 0.18025127053260803, 테스트 정확도: 93.43592071533203\n",
      "에포크: 96, 손실: 0.18137232959270477, 정확도: 93.4178466796875, 테스트 손실: 0.17914599180221558, 테스트 정확도: 93.47050476074219\n",
      "에포크: 97, 손실: 0.18025924265384674, 정확도: 93.45230865478516, 테스트 손실: 0.1780451089143753, 테스트 정확도: 93.50434875488281\n",
      "에포크: 98, 손실: 0.17915095388889313, 정확도: 93.48606872558594, 테스트 손실: 0.17694872617721558, 테스트 정확도: 93.53753662109375\n",
      "에포크: 99, 손실: 0.17804715037345886, 정확도: 93.51917266845703, 테스트 손실: 0.1758568286895752, 테스트 정확도: 93.57003784179688\n",
      "에포크: 100, 손실: 0.1769481599330902, 정확도: 93.55156707763672, 테스트 손실: 0.17476971447467804, 테스트 정확도: 93.6019058227539\n"
     ]
    }
   ],
   "source": [
    "EPOCHS = 100\n",
    "\n",
    "tr_loss = []\n",
    "tr_acc = []\n",
    "te_loss = []\n",
    "te_acc = []\n",
    "\n",
    "for epoch in range(EPOCHS):\n",
    "    for data, labels in train_ds:\n",
    "        train_step(data, labels)\n",
    "\n",
    "    for test_data, test_labels in test_ds:\n",
    "        test_step(test_data, test_labels)\n",
    "\n",
    "    template = '에포크: {}, 손실: {}, 정확도: {}, 테스트 손실: {}, 테스트 정확도: {}'\n",
    "    print(template.format(epoch+1,\n",
    "                         train_loss.result(),\n",
    "                         train_accuracy.result()*100,\n",
    "                         test_loss.result(),\n",
    "                         test_accuracy.result()*100))\n",
    "    \n",
    "    tr_loss.append(train_loss.result())\n",
    "    tr_acc.append(train_accuracy.result()*100)\n",
    "    te_loss.append(test_loss.result())\n",
    "    te_acc.append(test_accuracy.result()*100)"
   ]
  },
  {
   "cell_type": "code",
   "execution_count": 13,
   "metadata": {},
   "outputs": [
    {
     "data": {
      "text/plain": [
       "[<matplotlib.lines.Line2D at 0x21215162978>]"
      ]
     },
     "execution_count": 13,
     "metadata": {},
     "output_type": "execute_result"
    },
    {
     "data": {
      "image/png": "[encoded data removed]",
      "text/plain": [
       "<Figure size 432x288 with 1 Axes>"
      ]
     },
     "metadata": {
      "needs_background": "light"
     },
     "output_type": "display_data"
    }
   ],
   "source": [
    "import matplotlib.pyplot as plt\n",
    "%matplotlib inline\n",
    "\n",
    "plt.plot(tr_loss)\n",
    "plt.plot(te_loss)"
   ]
  },
  {
   "cell_type": "code",
   "execution_count": 14,
   "metadata": {},
   "outputs": [
    {
     "data": {
      "text/plain": [
       "[<matplotlib.lines.Line2D at 0x21494963390>]"
      ]
     },
     "execution_count": 14,
     "metadata": {},
     "output_type": "execute_result"
    },
    {
     "data": {
      "image/png": "[encoded data removed]",
      "text/plain": [
       "<Figure size 432x288 with 1 Axes>"
      ]
     },
     "metadata": {
      "needs_background": "light"
     },
     "output_type": "display_data"
    }
   ],
   "source": [
    "plt.plot(tr_acc)\n",
    "plt.plot(te_acc)"
   ]
  },
  {
   "cell_type": "code",
   "execution_count": null,
   "metadata": {},
   "outputs": [],
   "source": []
  }
 ],
 "metadata": {
  "kernelspec": {
   "display_name": "alpha",
   "language": "python",
   "name": "alpha"
  },
  "language_info": {
   "codemirror_mode": {
    "name": "ipython",
    "version": 3
   },
   "file_extension": ".py",
   "mimetype": "text/x-python",
   "name": "python",
   "nbconvert_exporter": "python",
   "pygments_lexer": "ipython3",
   "version": "3.5.6"
  }
 },
 "nbformat": 4,
 "nbformat_minor": 2
}
