{
 "cells": [
  {
   "cell_type": "code",
   "execution_count": 1,
   "metadata": {},
   "outputs": [],
   "source": [
    "import tensorflow as tf\n",
    "import numpy as np\n",
    "import matplotlib.pyplot as plt"
   ]
  },
  {
   "cell_type": "code",
   "execution_count": 2,
   "metadata": {},
   "outputs": [
    {
     "name": "stdout",
     "output_type": "stream",
     "text": [
      "13\n",
      "['C', 'i', 't', 'z', 'e', 'n', 'r', 's', ' ', 'F']\n"
     ]
    }
   ],
   "source": [
    "raw_data = 'First Citizen'\n",
    "n_samples = len(raw_data)\n",
    "unique_chars = list(set(raw_data))\n",
    "print(n_samples)\n",
    "print(unique_chars)"
   ]
  },
  {
   "cell_type": "code",
   "execution_count": 3,
   "metadata": {},
   "outputs": [
    {
     "name": "stdout",
     "output_type": "stream",
     "text": [
      "{'r': 6, 'C': 0, 's': 7, 'i': 1, 'F': 9, 't': 2, 'n': 5, 'z': 3, ' ': 8, 'e': 4}\n",
      "{0: 'C', 1: 'i', 2: 't', 3: 'z', 4: 'e', 5: 'n', 6: 'r', 7: 's', 8: ' ', 9: 'F'}\n"
     ]
    }
   ],
   "source": [
    "# 문자를 정수로 변환하는 딕셔너리\n",
    "char_to_int = { ch:i for i,ch in enumerate(unique_chars) }\n",
    "# 정수를 문자로 변환하는 딕셔너리\n",
    "int_to_char = { i:ch for i,ch in enumerate(unique_chars) }\n",
    "\n",
    "print(char_to_int)\n",
    "print(int_to_char)"
   ]
  },
  {
   "cell_type": "code",
   "execution_count": 4,
   "metadata": {},
   "outputs": [
    {
     "name": "stdout",
     "output_type": "stream",
     "text": [
      "number of unique chars :  10\n"
     ]
    }
   ],
   "source": [
    "n_unique_chars = len(unique_chars)\n",
    "input_dim = n_unique_chars\n",
    "num_classes = n_unique_chars\n",
    "\n",
    "print('number of unique chars : ',n_unique_chars)"
   ]
  },
  {
   "cell_type": "code",
   "execution_count": 5,
   "metadata": {},
   "outputs": [],
   "source": [
    "seq_len = n_samples-1"
   ]
  },
  {
   "cell_type": "code",
   "execution_count": 6,
   "metadata": {},
   "outputs": [],
   "source": [
    "#-------------------------------------------\n",
    "# 매개변수 설정\n",
    "#-------------------------------------------\n",
    "# 미니배치 크기: 1\n",
    "# 은닉층 크기: 16\n",
    "# 학습률: 0.1\n",
    "# 반복 수: 20\n",
    "batch_size = 1\n",
    "hidden_size = 16\n",
    "learning_rate = 0.1\n",
    "n_epochs = 200"
   ]
  },
  {
   "cell_type": "code",
   "execution_count": 7,
   "metadata": {},
   "outputs": [
    {
     "name": "stdout",
     "output_type": "stream",
     "text": [
      "input :  First Citize\n",
      "output :  irst Citizen\n"
     ]
    }
   ],
   "source": [
    "x = raw_data[:-1]\n",
    "print('input : ',x)\n",
    "y = raw_data[1:]\n",
    "print('output : ',y)"
   ]
  },
  {
   "cell_type": "code",
   "execution_count": 8,
   "metadata": {},
   "outputs": [
    {
     "name": "stdout",
     "output_type": "stream",
     "text": [
      "input :  [9, 1, 6, 7, 2, 8, 0, 1, 2, 1, 3, 4]\n",
      "output :  [1, 6, 7, 2, 8, 0, 1, 2, 1, 3, 4, 5]\n"
     ]
    }
   ],
   "source": [
    "x_int = [char_to_int[n] for n in x]\n",
    "print('input : ',x_int)\n",
    "y_int = [char_to_int[n] for n in y]\n",
    "print('output : ',y_int)"
   ]
  },
  {
   "cell_type": "code",
   "execution_count": 10,
   "metadata": {},
   "outputs": [
    {
     "name": "stdout",
     "output_type": "stream",
     "text": [
      "one hot input :  (1, 12, 10)\n",
      "one hot input :  (1, 12, 10)\n"
     ]
    }
   ],
   "source": [
    "x_one_hot = tf.keras.utils.to_categorical(x_int, \n",
    "n_unique_chars).reshape(batch_size,seq_len, input_dim)\n",
    "\n",
    "y_one_hot = tf.keras.utils.to_categorical(y_int, \n",
    "n_unique_chars).reshape(batch_size,seq_len, input_dim)\n",
    "\n",
    "print('one hot input : ',x_one_hot.shape)\n",
    "print('one hot input : ',y_one_hot.shape)"
   ]
  },
  {
   "cell_type": "code",
   "execution_count": 11,
   "metadata": {},
   "outputs": [],
   "source": [
    "model = tf.keras.models.Sequential([\n",
    "    tf.keras.layers.SimpleRNN(hidden_size,\n",
    "                                  input_shape=[seq_len,input_dim],\n",
    "                                  return_sequences=True),\n",
    "    tf.keras.layers.Dense(num_classes,activation='softmax')\n",
    "])\n",
    "\n",
    "\n",
    "model.compile(optimizer='adam',\n",
    "              loss='categorical_crossentropy',\n",
    "              metrics=['accuracy'])"
   ]
  },
  {
   "cell_type": "code",
   "execution_count": 11,
   "metadata": {},
   "outputs": [
    {
     "data": {
      "text/plain": [
       "10"
      ]
     },
     "execution_count": 11,
     "metadata": {},
     "output_type": "execute_result"
    }
   ],
   "source": [
    "num_classes"
   ]
  },
  {
   "cell_type": "code",
   "execution_count": 12,
   "metadata": {},
   "outputs": [
    {
     "name": "stdout",
     "output_type": "stream",
     "text": [
      "Model: \"sequential\"\n",
      "_________________________________________________________________\n",
      "Layer (type)                 Output Shape              Param #   \n",
      "=================================================================\n",
      "simple_rnn (SimpleRNN)       (None, 12, 16)            432       \n",
      "_________________________________________________________________\n",
      "dense (Dense)                (None, 12, 10)            170       \n",
      "=================================================================\n",
      "Total params: 602\n",
      "Trainable params: 602\n",
      "Non-trainable params: 0\n",
      "_________________________________________________________________\n"
     ]
    }
   ],
   "source": [
    "model.summary()"
   ]
  },
  {
   "cell_type": "code",
   "execution_count": 13,
   "metadata": {},
   "outputs": [
    {
     "data": {
      "text/plain": [
       "(1, 12, 10)"
      ]
     },
     "execution_count": 13,
     "metadata": {},
     "output_type": "execute_result"
    }
   ],
   "source": [
    "x_one_hot.shape"
   ]
  },
  {
   "cell_type": "code",
   "execution_count": 14,
   "metadata": {},
   "outputs": [
    {
     "name": "stdout",
     "output_type": "stream",
     "text": [
      "Train on 1 samples\n",
      "Epoch 1/200\n",
      "1/1 [==============================] - 2s 2s/sample - loss: 2.4620 - accuracy: 0.0833\n",
      "Epoch 2/200\n",
      "1/1 [==============================] - 0s 4ms/sample - loss: 2.4412 - accuracy: 0.0833\n",
      "Epoch 3/200\n",
      "1/1 [==============================] - 0s 7ms/sample - loss: 2.4205 - accuracy: 0.0833\n",
      "Epoch 4/200\n",
      "1/1 [==============================] - 0s 6ms/sample - loss: 2.3998 - accuracy: 0.0833\n",
      "Epoch 5/200\n",
      "1/1 [==============================] - 0s 8ms/sample - loss: 2.3792 - accuracy: 0.0833\n",
      "Epoch 6/200\n",
      "1/1 [==============================] - 0s 7ms/sample - loss: 2.3588 - accuracy: 0.0833\n",
      "Epoch 7/200\n",
      "1/1 [==============================] - 0s 11ms/sample - loss: 2.3385 - accuracy: 0.1667\n",
      "Epoch 8/200\n",
      "1/1 [==============================] - 0s 6ms/sample - loss: 2.3183 - accuracy: 0.1667\n",
      "Epoch 9/200\n",
      "1/1 [==============================] - 0s 7ms/sample - loss: 2.2983 - accuracy: 0.1667\n",
      "Epoch 10/200\n",
      "1/1 [==============================] - 0s 9ms/sample - loss: 2.2784 - accuracy: 0.1667\n",
      "Epoch 11/200\n",
      "1/1 [==============================] - 0s 9ms/sample - loss: 2.2588 - accuracy: 0.1667\n",
      "Epoch 12/200\n",
      "1/1 [==============================] - 0s 7ms/sample - loss: 2.2393 - accuracy: 0.1667\n",
      "Epoch 13/200\n",
      "1/1 [==============================] - 0s 11ms/sample - loss: 2.2200 - accuracy: 0.1667\n",
      "Epoch 14/200\n",
      "1/1 [==============================] - 0s 7ms/sample - loss: 2.2009 - accuracy: 0.1667\n",
      "Epoch 15/200\n",
      "1/1 [==============================] - 0s 6ms/sample - loss: 2.1821 - accuracy: 0.1667\n",
      "Epoch 16/200\n",
      "1/1 [==============================] - 0s 9ms/sample - loss: 2.1634 - accuracy: 0.2500\n",
      "Epoch 17/200\n",
      "1/1 [==============================] - 0s 8ms/sample - loss: 2.1449 - accuracy: 0.2500\n",
      "Epoch 18/200\n",
      "1/1 [==============================] - 0s 9ms/sample - loss: 2.1266 - accuracy: 0.2500\n",
      "Epoch 19/200\n",
      "1/1 [==============================] - 0s 10ms/sample - loss: 2.1085 - accuracy: 0.2500\n",
      "Epoch 20/200\n",
      "1/1 [==============================] - 0s 9ms/sample - loss: 2.0906 - accuracy: 0.2500\n",
      "Epoch 21/200\n",
      "1/1 [==============================] - 0s 6ms/sample - loss: 2.0728 - accuracy: 0.2500\n",
      "Epoch 22/200\n",
      "1/1 [==============================] - 0s 10ms/sample - loss: 2.0553 - accuracy: 0.2500\n",
      "Epoch 23/200\n",
      "1/1 [==============================] - 0s 7ms/sample - loss: 2.0380 - accuracy: 0.2500\n",
      "Epoch 24/200\n",
      "1/1 [==============================] - 0s 10ms/sample - loss: 2.0209 - accuracy: 0.2500\n",
      "Epoch 25/200\n",
      "1/1 [==============================] - 0s 7ms/sample - loss: 2.0040 - accuracy: 0.2500\n",
      "Epoch 26/200\n",
      "1/1 [==============================] - 0s 9ms/sample - loss: 1.9873 - accuracy: 0.2500\n",
      "Epoch 27/200\n",
      "1/1 [==============================] - 0s 9ms/sample - loss: 1.9708 - accuracy: 0.3333\n",
      "Epoch 28/200\n",
      "1/1 [==============================] - 0s 11ms/sample - loss: 1.9545 - accuracy: 0.3333\n",
      "Epoch 29/200\n",
      "1/1 [==============================] - 0s 9ms/sample - loss: 1.9385 - accuracy: 0.3333\n",
      "Epoch 30/200\n",
      "1/1 [==============================] - 0s 11ms/sample - loss: 1.9226 - accuracy: 0.3333\n",
      "Epoch 31/200\n",
      "1/1 [==============================] - 0s 8ms/sample - loss: 1.9069 - accuracy: 0.3333\n",
      "Epoch 32/200\n",
      "1/1 [==============================] - 0s 8ms/sample - loss: 1.8914 - accuracy: 0.3333\n",
      "Epoch 33/200\n",
      "1/1 [==============================] - 0s 9ms/sample - loss: 1.8761 - accuracy: 0.3333\n",
      "Epoch 34/200\n",
      "1/1 [==============================] - 0s 10ms/sample - loss: 1.8610 - accuracy: 0.3333\n",
      "Epoch 35/200\n",
      "1/1 [==============================] - 0s 7ms/sample - loss: 1.8460 - accuracy: 0.4167\n",
      "Epoch 36/200\n",
      "1/1 [==============================] - 0s 11ms/sample - loss: 1.8312 - accuracy: 0.4167\n",
      "Epoch 37/200\n",
      "1/1 [==============================] - 0s 10ms/sample - loss: 1.8166 - accuracy: 0.4167\n",
      "Epoch 38/200\n",
      "1/1 [==============================] - 0s 12ms/sample - loss: 1.8021 - accuracy: 0.4167\n",
      "Epoch 39/200\n",
      "1/1 [==============================] - 0s 6ms/sample - loss: 1.7878 - accuracy: 0.4167\n",
      "Epoch 40/200\n",
      "1/1 [==============================] - 0s 8ms/sample - loss: 1.7736 - accuracy: 0.4167\n",
      "Epoch 41/200\n",
      "1/1 [==============================] - 0s 14ms/sample - loss: 1.7595 - accuracy: 0.4167\n",
      "Epoch 42/200\n",
      "1/1 [==============================] - 0s 7ms/sample - loss: 1.7455 - accuracy: 0.4167\n",
      "Epoch 43/200\n",
      "1/1 [==============================] - 0s 9ms/sample - loss: 1.7317 - accuracy: 0.5000\n",
      "Epoch 44/200\n",
      "1/1 [==============================] - 0s 7ms/sample - loss: 1.7179 - accuracy: 0.5833\n",
      "Epoch 45/200\n",
      "1/1 [==============================] - 0s 8ms/sample - loss: 1.7043 - accuracy: 0.5833\n",
      "Epoch 46/200\n",
      "1/1 [==============================] - 0s 8ms/sample - loss: 1.6907 - accuracy: 0.7500\n",
      "Epoch 47/200\n",
      "1/1 [==============================] - 0s 9ms/sample - loss: 1.6773 - accuracy: 0.7500\n",
      "Epoch 48/200\n",
      "1/1 [==============================] - 0s 6ms/sample - loss: 1.6639 - accuracy: 0.8333\n",
      "Epoch 49/200\n",
      "1/1 [==============================] - 0s 8ms/sample - loss: 1.6506 - accuracy: 0.8333\n",
      "Epoch 50/200\n",
      "1/1 [==============================] - 0s 10ms/sample - loss: 1.6373 - accuracy: 0.8333\n",
      "Epoch 51/200\n",
      "1/1 [==============================] - 0s 8ms/sample - loss: 1.6242 - accuracy: 0.8333\n",
      "Epoch 52/200\n",
      "1/1 [==============================] - 0s 6ms/sample - loss: 1.6111 - accuracy: 0.8333\n",
      "Epoch 53/200\n",
      "1/1 [==============================] - 0s 11ms/sample - loss: 1.5981 - accuracy: 0.8333\n",
      "Epoch 54/200\n",
      "1/1 [==============================] - 0s 8ms/sample - loss: 1.5852 - accuracy: 0.8333\n",
      "Epoch 55/200\n",
      "1/1 [==============================] - 0s 11ms/sample - loss: 1.5723 - accuracy: 0.8333\n",
      "Epoch 56/200\n",
      "1/1 [==============================] - 0s 12ms/sample - loss: 1.5595 - accuracy: 0.8333\n",
      "Epoch 57/200\n",
      "1/1 [==============================] - 0s 7ms/sample - loss: 1.5467 - accuracy: 0.8333\n",
      "Epoch 58/200\n",
      "1/1 [==============================] - 0s 11ms/sample - loss: 1.5341 - accuracy: 0.8333\n",
      "Epoch 59/200\n",
      "1/1 [==============================] - 0s 9ms/sample - loss: 1.5215 - accuracy: 0.8333\n",
      "Epoch 60/200\n",
      "1/1 [==============================] - 0s 10ms/sample - loss: 1.5089 - accuracy: 0.8333\n",
      "Epoch 61/200\n",
      "1/1 [==============================] - 0s 7ms/sample - loss: 1.4965 - accuracy: 0.8333\n",
      "Epoch 62/200\n",
      "1/1 [==============================] - 0s 12ms/sample - loss: 1.4841 - accuracy: 0.8333\n",
      "Epoch 63/200\n",
      "1/1 [==============================] - 0s 12ms/sample - loss: 1.4717 - accuracy: 0.8333\n",
      "Epoch 64/200\n",
      "1/1 [==============================] - 0s 13ms/sample - loss: 1.4594 - accuracy: 0.8333\n",
      "Epoch 65/200\n",
      "1/1 [==============================] - 0s 7ms/sample - loss: 1.4472 - accuracy: 0.8333\n",
      "Epoch 66/200\n",
      "1/1 [==============================] - 0s 7ms/sample - loss: 1.4351 - accuracy: 0.8333\n",
      "Epoch 67/200\n",
      "1/1 [==============================] - 0s 13ms/sample - loss: 1.4230 - accuracy: 0.8333\n",
      "Epoch 68/200\n",
      "1/1 [==============================] - 0s 14ms/sample - loss: 1.4110 - accuracy: 0.8333\n",
      "Epoch 69/200\n",
      "1/1 [==============================] - 0s 6ms/sample - loss: 1.3990 - accuracy: 0.8333\n",
      "Epoch 70/200\n",
      "1/1 [==============================] - 0s 13ms/sample - loss: 1.3871 - accuracy: 0.8333\n",
      "Epoch 71/200\n",
      "1/1 [==============================] - 0s 10ms/sample - loss: 1.3753 - accuracy: 0.8333\n",
      "Epoch 72/200\n",
      "1/1 [==============================] - 0s 9ms/sample - loss: 1.3635 - accuracy: 0.8333\n",
      "Epoch 73/200\n",
      "1/1 [==============================] - 0s 10ms/sample - loss: 1.3518 - accuracy: 0.8333\n",
      "Epoch 74/200\n",
      "1/1 [==============================] - 0s 7ms/sample - loss: 1.3401 - accuracy: 0.8333\n",
      "Epoch 75/200\n",
      "1/1 [==============================] - 0s 10ms/sample - loss: 1.3286 - accuracy: 0.8333\n",
      "Epoch 76/200\n",
      "1/1 [==============================] - 0s 12ms/sample - loss: 1.3170 - accuracy: 0.8333\n",
      "Epoch 77/200\n",
      "1/1 [==============================] - 0s 9ms/sample - loss: 1.3056 - accuracy: 0.8333\n",
      "Epoch 78/200\n",
      "1/1 [==============================] - 0s 11ms/sample - loss: 1.2942 - accuracy: 0.8333\n",
      "Epoch 79/200\n",
      "1/1 [==============================] - 0s 8ms/sample - loss: 1.2829 - accuracy: 0.8333\n",
      "Epoch 80/200\n",
      "1/1 [==============================] - 0s 11ms/sample - loss: 1.2716 - accuracy: 0.8333\n",
      "Epoch 81/200\n",
      "1/1 [==============================] - 0s 12ms/sample - loss: 1.2604 - accuracy: 0.8333\n",
      "Epoch 82/200\n",
      "1/1 [==============================] - 0s 13ms/sample - loss: 1.2493 - accuracy: 0.8333\n"
     ]
    },
    {
     "name": "stdout",
     "output_type": "stream",
     "text": [
      "Epoch 83/200\n",
      "1/1 [==============================] - 0s 16ms/sample - loss: 1.2382 - accuracy: 0.9167\n",
      "Epoch 84/200\n",
      "1/1 [==============================] - 0s 10ms/sample - loss: 1.2272 - accuracy: 0.9167\n",
      "Epoch 85/200\n",
      "1/1 [==============================] - 0s 11ms/sample - loss: 1.2163 - accuracy: 0.9167\n",
      "Epoch 86/200\n",
      "1/1 [==============================] - 0s 8ms/sample - loss: 1.2054 - accuracy: 0.9167\n",
      "Epoch 87/200\n",
      "1/1 [==============================] - 0s 11ms/sample - loss: 1.1946 - accuracy: 0.9167\n",
      "Epoch 88/200\n",
      "1/1 [==============================] - 0s 11ms/sample - loss: 1.1839 - accuracy: 1.0000\n",
      "Epoch 89/200\n",
      "1/1 [==============================] - 0s 11ms/sample - loss: 1.1732 - accuracy: 1.0000\n",
      "Epoch 90/200\n",
      "1/1 [==============================] - 0s 8ms/sample - loss: 1.1626 - accuracy: 1.0000\n",
      "Epoch 91/200\n",
      "1/1 [==============================] - 0s 10ms/sample - loss: 1.1521 - accuracy: 1.0000\n",
      "Epoch 92/200\n",
      "1/1 [==============================] - 0s 8ms/sample - loss: 1.1416 - accuracy: 1.0000\n",
      "Epoch 93/200\n",
      "1/1 [==============================] - 0s 9ms/sample - loss: 1.1312 - accuracy: 1.0000\n",
      "Epoch 94/200\n",
      "1/1 [==============================] - 0s 11ms/sample - loss: 1.1209 - accuracy: 1.0000\n",
      "Epoch 95/200\n",
      "1/1 [==============================] - 0s 12ms/sample - loss: 1.1106 - accuracy: 1.0000\n",
      "Epoch 96/200\n",
      "1/1 [==============================] - 0s 7ms/sample - loss: 1.1004 - accuracy: 1.0000\n",
      "Epoch 97/200\n",
      "1/1 [==============================] - 0s 10ms/sample - loss: 1.0903 - accuracy: 1.0000\n",
      "Epoch 98/200\n",
      "1/1 [==============================] - 0s 12ms/sample - loss: 1.0802 - accuracy: 1.0000\n",
      "Epoch 99/200\n",
      "1/1 [==============================] - 0s 7ms/sample - loss: 1.0703 - accuracy: 1.0000\n",
      "Epoch 100/200\n",
      "1/1 [==============================] - 0s 10ms/sample - loss: 1.0603 - accuracy: 1.0000\n",
      "Epoch 101/200\n",
      "1/1 [==============================] - 0s 13ms/sample - loss: 1.0505 - accuracy: 1.0000\n",
      "Epoch 102/200\n",
      "1/1 [==============================] - 0s 8ms/sample - loss: 1.0407 - accuracy: 1.0000\n",
      "Epoch 103/200\n",
      "1/1 [==============================] - 0s 8ms/sample - loss: 1.0310 - accuracy: 1.0000\n",
      "Epoch 104/200\n",
      "1/1 [==============================] - 0s 12ms/sample - loss: 1.0214 - accuracy: 1.0000\n",
      "Epoch 105/200\n",
      "1/1 [==============================] - 0s 8ms/sample - loss: 1.0118 - accuracy: 1.0000\n",
      "Epoch 106/200\n",
      "1/1 [==============================] - 0s 7ms/sample - loss: 1.0023 - accuracy: 1.0000\n",
      "Epoch 107/200\n",
      "1/1 [==============================] - 0s 10ms/sample - loss: 0.9929 - accuracy: 1.0000\n",
      "Epoch 108/200\n",
      "1/1 [==============================] - 0s 8ms/sample - loss: 0.9836 - accuracy: 1.0000\n",
      "Epoch 109/200\n",
      "1/1 [==============================] - 0s 11ms/sample - loss: 0.9743 - accuracy: 1.0000\n",
      "Epoch 110/200\n",
      "1/1 [==============================] - 0s 13ms/sample - loss: 0.9651 - accuracy: 1.0000\n",
      "Epoch 111/200\n",
      "1/1 [==============================] - 0s 9ms/sample - loss: 0.9560 - accuracy: 1.0000\n",
      "Epoch 112/200\n",
      "1/1 [==============================] - 0s 8ms/sample - loss: 0.9469 - accuracy: 1.0000\n",
      "Epoch 113/200\n",
      "1/1 [==============================] - 0s 8ms/sample - loss: 0.9379 - accuracy: 1.0000\n",
      "Epoch 114/200\n",
      "1/1 [==============================] - 0s 9ms/sample - loss: 0.9290 - accuracy: 1.0000\n",
      "Epoch 115/200\n",
      "1/1 [==============================] - 0s 7ms/sample - loss: 0.9202 - accuracy: 1.0000\n",
      "Epoch 116/200\n",
      "1/1 [==============================] - 0s 9ms/sample - loss: 0.9114 - accuracy: 1.0000\n",
      "Epoch 117/200\n",
      "1/1 [==============================] - 0s 6ms/sample - loss: 0.9027 - accuracy: 1.0000\n",
      "Epoch 118/200\n",
      "1/1 [==============================] - 0s 9ms/sample - loss: 0.8941 - accuracy: 1.0000\n",
      "Epoch 119/200\n",
      "1/1 [==============================] - 0s 8ms/sample - loss: 0.8856 - accuracy: 1.0000\n",
      "Epoch 120/200\n",
      "1/1 [==============================] - 0s 6ms/sample - loss: 0.8771 - accuracy: 1.0000\n",
      "Epoch 121/200\n",
      "1/1 [==============================] - 0s 11ms/sample - loss: 0.8687 - accuracy: 1.0000\n",
      "Epoch 122/200\n",
      "1/1 [==============================] - 0s 8ms/sample - loss: 0.8604 - accuracy: 1.0000\n",
      "Epoch 123/200\n",
      "1/1 [==============================] - 0s 11ms/sample - loss: 0.8522 - accuracy: 1.0000\n",
      "Epoch 124/200\n",
      "1/1 [==============================] - 0s 9ms/sample - loss: 0.8440 - accuracy: 1.0000\n",
      "Epoch 125/200\n",
      "1/1 [==============================] - 0s 7ms/sample - loss: 0.8359 - accuracy: 1.0000\n",
      "Epoch 126/200\n",
      "1/1 [==============================] - 0s 9ms/sample - loss: 0.8279 - accuracy: 1.0000\n",
      "Epoch 127/200\n",
      "1/1 [==============================] - 0s 6ms/sample - loss: 0.8199 - accuracy: 1.0000\n",
      "Epoch 128/200\n",
      "1/1 [==============================] - 0s 9ms/sample - loss: 0.8121 - accuracy: 1.0000\n",
      "Epoch 129/200\n",
      "1/1 [==============================] - 0s 7ms/sample - loss: 0.8043 - accuracy: 1.0000\n",
      "Epoch 130/200\n",
      "1/1 [==============================] - 0s 9ms/sample - loss: 0.7965 - accuracy: 1.0000\n",
      "Epoch 131/200\n",
      "1/1 [==============================] - 0s 11ms/sample - loss: 0.7889 - accuracy: 1.0000\n",
      "Epoch 132/200\n",
      "1/1 [==============================] - 0s 17ms/sample - loss: 0.7813 - accuracy: 1.0000\n",
      "Epoch 133/200\n",
      "1/1 [==============================] - 0s 8ms/sample - loss: 0.7738 - accuracy: 1.0000\n",
      "Epoch 134/200\n",
      "1/1 [==============================] - 0s 11ms/sample - loss: 0.7664 - accuracy: 1.0000\n",
      "Epoch 135/200\n",
      "1/1 [==============================] - 0s 8ms/sample - loss: 0.7590 - accuracy: 1.0000\n",
      "Epoch 136/200\n",
      "1/1 [==============================] - 0s 11ms/sample - loss: 0.7517 - accuracy: 1.0000\n",
      "Epoch 137/200\n",
      "1/1 [==============================] - 0s 9ms/sample - loss: 0.7445 - accuracy: 1.0000\n",
      "Epoch 138/200\n",
      "1/1 [==============================] - 0s 12ms/sample - loss: 0.7374 - accuracy: 1.0000\n",
      "Epoch 139/200\n",
      "1/1 [==============================] - 0s 9ms/sample - loss: 0.7303 - accuracy: 1.0000\n",
      "Epoch 140/200\n",
      "1/1 [==============================] - 0s 9ms/sample - loss: 0.7233 - accuracy: 1.0000\n",
      "Epoch 141/200\n",
      "1/1 [==============================] - 0s 12ms/sample - loss: 0.7163 - accuracy: 1.0000\n",
      "Epoch 142/200\n",
      "1/1 [==============================] - 0s 8ms/sample - loss: 0.7095 - accuracy: 1.0000\n",
      "Epoch 143/200\n",
      "1/1 [==============================] - 0s 11ms/sample - loss: 0.7027 - accuracy: 1.0000\n",
      "Epoch 144/200\n",
      "1/1 [==============================] - 0s 8ms/sample - loss: 0.6960 - accuracy: 1.0000\n",
      "Epoch 145/200\n",
      "1/1 [==============================] - 0s 11ms/sample - loss: 0.6893 - accuracy: 1.0000\n",
      "Epoch 146/200\n",
      "1/1 [==============================] - 0s 13ms/sample - loss: 0.6827 - accuracy: 1.0000\n",
      "Epoch 147/200\n",
      "1/1 [==============================] - 0s 10ms/sample - loss: 0.6762 - accuracy: 1.0000\n",
      "Epoch 148/200\n",
      "1/1 [==============================] - 0s 10ms/sample - loss: 0.6698 - accuracy: 1.0000\n",
      "Epoch 149/200\n",
      "1/1 [==============================] - 0s 7ms/sample - loss: 0.6634 - accuracy: 1.0000\n",
      "Epoch 150/200\n",
      "1/1 [==============================] - 0s 9ms/sample - loss: 0.6571 - accuracy: 1.0000\n",
      "Epoch 151/200\n",
      "1/1 [==============================] - 0s 10ms/sample - loss: 0.6508 - accuracy: 1.0000\n",
      "Epoch 152/200\n",
      "1/1 [==============================] - 0s 10ms/sample - loss: 0.6446 - accuracy: 1.0000\n",
      "Epoch 153/200\n",
      "1/1 [==============================] - 0s 7ms/sample - loss: 0.6385 - accuracy: 1.0000\n",
      "Epoch 154/200\n",
      "1/1 [==============================] - 0s 14ms/sample - loss: 0.6325 - accuracy: 1.0000\n",
      "Epoch 155/200\n",
      "1/1 [==============================] - 0s 12ms/sample - loss: 0.6265 - accuracy: 1.0000\n",
      "Epoch 156/200\n",
      "1/1 [==============================] - 0s 11ms/sample - loss: 0.6206 - accuracy: 1.0000\n",
      "Epoch 157/200\n",
      "1/1 [==============================] - 0s 9ms/sample - loss: 0.6147 - accuracy: 1.0000\n",
      "Epoch 158/200\n",
      "1/1 [==============================] - 0s 16ms/sample - loss: 0.6089 - accuracy: 1.0000\n",
      "Epoch 159/200\n",
      "1/1 [==============================] - 0s 9ms/sample - loss: 0.6032 - accuracy: 1.0000\n",
      "Epoch 160/200\n",
      "1/1 [==============================] - 0s 10ms/sample - loss: 0.5975 - accuracy: 1.0000\n",
      "Epoch 161/200\n",
      "1/1 [==============================] - 0s 10ms/sample - loss: 0.5919 - accuracy: 1.0000\n",
      "Epoch 162/200\n",
      "1/1 [==============================] - 0s 9ms/sample - loss: 0.5864 - accuracy: 1.0000\n",
      "Epoch 163/200\n",
      "1/1 [==============================] - 0s 9ms/sample - loss: 0.5809 - accuracy: 1.0000\n"
     ]
    },
    {
     "name": "stdout",
     "output_type": "stream",
     "text": [
      "Epoch 164/200\n",
      "1/1 [==============================] - 0s 11ms/sample - loss: 0.5755 - accuracy: 1.0000\n",
      "Epoch 165/200\n",
      "1/1 [==============================] - 0s 8ms/sample - loss: 0.5701 - accuracy: 1.0000\n",
      "Epoch 166/200\n",
      "1/1 [==============================] - 0s 6ms/sample - loss: 0.5648 - accuracy: 1.0000\n",
      "Epoch 167/200\n",
      "1/1 [==============================] - 0s 12ms/sample - loss: 0.5595 - accuracy: 1.0000\n",
      "Epoch 168/200\n",
      "1/1 [==============================] - 0s 9ms/sample - loss: 0.5543 - accuracy: 1.0000\n",
      "Epoch 169/200\n",
      "1/1 [==============================] - 0s 11ms/sample - loss: 0.5492 - accuracy: 1.0000\n",
      "Epoch 170/200\n",
      "1/1 [==============================] - 0s 7ms/sample - loss: 0.5441 - accuracy: 1.0000\n",
      "Epoch 171/200\n",
      "1/1 [==============================] - 0s 12ms/sample - loss: 0.5391 - accuracy: 1.0000\n",
      "Epoch 172/200\n",
      "1/1 [==============================] - 0s 9ms/sample - loss: 0.5341 - accuracy: 1.0000\n",
      "Epoch 173/200\n",
      "1/1 [==============================] - 0s 7ms/sample - loss: 0.5292 - accuracy: 1.0000\n",
      "Epoch 174/200\n",
      "1/1 [==============================] - 0s 12ms/sample - loss: 0.5243 - accuracy: 1.0000\n",
      "Epoch 175/200\n",
      "1/1 [==============================] - 0s 8ms/sample - loss: 0.5195 - accuracy: 1.0000\n",
      "Epoch 176/200\n",
      "1/1 [==============================] - 0s 12ms/sample - loss: 0.5148 - accuracy: 1.0000\n",
      "Epoch 177/200\n",
      "1/1 [==============================] - 0s 12ms/sample - loss: 0.5101 - accuracy: 1.0000\n",
      "Epoch 178/200\n",
      "1/1 [==============================] - 0s 10ms/sample - loss: 0.5054 - accuracy: 1.0000\n",
      "Epoch 179/200\n",
      "1/1 [==============================] - 0s 10ms/sample - loss: 0.5008 - accuracy: 1.0000\n",
      "Epoch 180/200\n",
      "1/1 [==============================] - 0s 11ms/sample - loss: 0.4963 - accuracy: 1.0000\n",
      "Epoch 181/200\n",
      "1/1 [==============================] - 0s 11ms/sample - loss: 0.4918 - accuracy: 1.0000\n",
      "Epoch 182/200\n",
      "1/1 [==============================] - 0s 12ms/sample - loss: 0.4874 - accuracy: 1.0000\n",
      "Epoch 183/200\n",
      "1/1 [==============================] - 0s 10ms/sample - loss: 0.4830 - accuracy: 1.0000\n",
      "Epoch 184/200\n",
      "1/1 [==============================] - 0s 11ms/sample - loss: 0.4786 - accuracy: 1.0000\n",
      "Epoch 185/200\n",
      "1/1 [==============================] - 0s 7ms/sample - loss: 0.4743 - accuracy: 1.0000\n",
      "Epoch 186/200\n",
      "1/1 [==============================] - 0s 12ms/sample - loss: 0.4701 - accuracy: 1.0000\n",
      "Epoch 187/200\n",
      "1/1 [==============================] - 0s 14ms/sample - loss: 0.4658 - accuracy: 1.0000\n",
      "Epoch 188/200\n",
      "1/1 [==============================] - 0s 13ms/sample - loss: 0.4617 - accuracy: 1.0000\n",
      "Epoch 189/200\n",
      "1/1 [==============================] - 0s 15ms/sample - loss: 0.4576 - accuracy: 1.0000\n",
      "Epoch 190/200\n",
      "1/1 [==============================] - 0s 15ms/sample - loss: 0.4535 - accuracy: 1.0000\n",
      "Epoch 191/200\n",
      "1/1 [==============================] - 0s 10ms/sample - loss: 0.4495 - accuracy: 1.0000\n",
      "Epoch 192/200\n",
      "1/1 [==============================] - 0s 10ms/sample - loss: 0.4455 - accuracy: 1.0000\n",
      "Epoch 193/200\n",
      "1/1 [==============================] - 0s 7ms/sample - loss: 0.4416 - accuracy: 1.0000\n",
      "Epoch 194/200\n",
      "1/1 [==============================] - 0s 9ms/sample - loss: 0.4377 - accuracy: 1.0000\n",
      "Epoch 195/200\n",
      "1/1 [==============================] - 0s 14ms/sample - loss: 0.4338 - accuracy: 1.0000\n",
      "Epoch 196/200\n",
      "1/1 [==============================] - 0s 12ms/sample - loss: 0.4300 - accuracy: 1.0000\n",
      "Epoch 197/200\n",
      "1/1 [==============================] - 0s 10ms/sample - loss: 0.4263 - accuracy: 1.0000\n",
      "Epoch 198/200\n",
      "1/1 [==============================] - 0s 10ms/sample - loss: 0.4225 - accuracy: 1.0000\n",
      "Epoch 199/200\n",
      "1/1 [==============================] - 0s 9ms/sample - loss: 0.4188 - accuracy: 1.0000\n",
      "Epoch 200/200\n",
      "1/1 [==============================] - 0s 13ms/sample - loss: 0.4152 - accuracy: 1.0000\n"
     ]
    }
   ],
   "source": [
    "history = model.fit(np.array(x_one_hot), np.array(y_one_hot), epochs=n_epochs)"
   ]
  },
  {
   "cell_type": "code",
   "execution_count": 42,
   "metadata": {},
   "outputs": [
    {
     "data": {
      "image/png": "[encoded data removed]",
      "text/plain": [
       "<Figure size 432x288 with 1 Axes>"
      ]
     },
     "metadata": {
      "needs_background": "light"
     },
     "output_type": "display_data"
    }
   ],
   "source": [
    "# Plot training & validation accuracy values\n",
    "plt.plot(history.history['accuracy'])\n",
    "plt.title('Model accuracy')\n",
    "plt.ylabel('Accuracy')\n",
    "plt.xlabel('Epoch')\n",
    "plt.legend(['Train'], loc='upper left')\n",
    "plt.show()"
   ]
  },
  {
   "cell_type": "code",
   "execution_count": 43,
   "metadata": {},
   "outputs": [
    {
     "name": "stdout",
     "output_type": "stream",
     "text": [
      "\r",
      "1/1 [==============================] - 0s 196ms/sample - loss: 0.0108 - accuracy: 1.0000\n"
     ]
    },
    {
     "data": {
      "text/plain": [
       "[0.01077305804938078, 1.0]"
      ]
     },
     "execution_count": 43,
     "metadata": {},
     "output_type": "execute_result"
    }
   ],
   "source": [
    "model.evaluate(x_one_hot, y_one_hot)"
   ]
  },
  {
   "cell_type": "code",
   "execution_count": 44,
   "metadata": {
    "scrolled": true
   },
   "outputs": [
    {
     "data": {
      "text/plain": [
       "array([[[2.19174344e-02, 5.18293940e-02, 2.94594951e-02, 6.40630364e-01,\n",
       "         5.16798608e-02, 5.10814004e-02, 2.90251207e-02, 6.04958348e-02,\n",
       "         1.26173571e-02, 5.12637347e-02],\n",
       "        [1.63896196e-02, 5.75988479e-02, 1.01400996e-02, 6.42181113e-02,\n",
       "         6.33030757e-03, 2.28819111e-03, 5.20870648e-02, 7.06729472e-01,\n",
       "         1.70935057e-02, 6.71248510e-02],\n",
       "        [1.34687899e-02, 6.07110560e-02, 1.33948140e-02, 3.83158051e-03,\n",
       "         2.06244253e-02, 4.39456524e-03, 7.85694301e-01, 7.04807788e-02,\n",
       "         1.17698517e-02, 1.56298894e-02],\n",
       "        [1.60457660e-02, 7.73997784e-01, 2.02558041e-02, 2.30863895e-02,\n",
       "         2.22665090e-02, 3.02356724e-02, 1.21746268e-02, 2.62365602e-02,\n",
       "         3.44168283e-02, 4.12840694e-02],\n",
       "        [7.73321152e-01, 3.31259891e-03, 1.54611869e-02, 7.87557438e-02,\n",
       "         1.66154429e-02, 6.84499182e-03, 3.79689001e-02, 1.89686380e-02,\n",
       "         3.52473669e-02, 1.35040954e-02],\n",
       "        [5.45434933e-03, 3.44866663e-02, 2.70046089e-02, 9.49421152e-03,\n",
       "         4.28624526e-02, 8.26284230e-01, 4.10112133e-03, 7.38630013e-04,\n",
       "         3.26845385e-02, 1.68892760e-02],\n",
       "        [4.90931608e-02, 1.00523606e-02, 5.77979302e-03, 8.49448264e-01,\n",
       "         1.98424775e-02, 2.27471464e-03, 6.90037897e-03, 5.00675850e-02,\n",
       "         1.35776971e-03, 5.18349372e-03],\n",
       "        [8.21458641e-03, 7.57575572e-01, 1.44919995e-02, 5.43791577e-02,\n",
       "         5.18085994e-03, 3.73929814e-02, 2.81250942e-02, 3.71152498e-02,\n",
       "         1.57579035e-02, 4.17665541e-02],\n",
       "        [5.37134409e-02, 5.50562702e-02, 2.41232477e-02, 7.08295643e-01,\n",
       "         1.22598438e-02, 2.03131903e-02, 2.68594529e-02, 5.47178872e-02,\n",
       "         9.85419936e-03, 3.48068625e-02],\n",
       "        [9.77520198e-02, 6.89085945e-02, 4.88657765e-02, 5.27287349e-02,\n",
       "         4.62700948e-02, 9.25594270e-02, 6.33306280e-02, 1.62470087e-01,\n",
       "         6.61452040e-02, 3.00969481e-01],\n",
       "        [3.16242687e-02, 1.85977574e-02, 2.60993112e-02, 6.14579534e-03,\n",
       "         1.85417645e-02, 3.75926048e-02, 2.74651032e-02, 1.27372807e-02,\n",
       "         8.05293918e-01, 1.59022603e-02],\n",
       "        [1.90424323e-02, 6.99066324e-03, 2.56859716e-02, 2.59314198e-02,\n",
       "         7.98924804e-01, 5.20152524e-02, 2.03553252e-02, 1.57754347e-02,\n",
       "         1.71878170e-02, 1.80909168e-02]]], dtype=float32)"
      ]
     },
     "execution_count": 44,
     "metadata": {},
     "output_type": "execute_result"
    }
   ],
   "source": [
    "model.predict(x_one_hot)"
   ]
  },
  {
   "cell_type": "code",
   "execution_count": 52,
   "metadata": {},
   "outputs": [
    {
     "name": "stdout",
     "output_type": "stream",
     "text": [
      "predict :  [[3 7 6 1 0 5 3 1 3 9 8 4]]\n",
      "true :  [3, 7, 6, 1, 0, 5, 3, 1, 3, 9, 8, 4]\n"
     ]
    }
   ],
   "source": [
    "import numpy as np\n",
    "print('predict : ',np.argmax(model.predict(x_one_hot),axis=2))\n",
    "print('true : ',y_int)"
   ]
  },
  {
   "cell_type": "code",
   "execution_count": null,
   "metadata": {},
   "outputs": [],
   "source": []
  }
 ],
 "metadata": {
  "kernelspec": {
   "display_name": "py35",
   "language": "python",
   "name": "py35"
  },
  "language_info": {
   "codemirror_mode": {
    "name": "ipython",
    "version": 3
   },
   "file_extension": ".py",
   "mimetype": "text/x-python",
   "name": "python",
   "nbconvert_exporter": "python",
   "pygments_lexer": "ipython3",
   "version": "3.5.6"
  }
 },
 "nbformat": 4,
 "nbformat_minor": 2
}
