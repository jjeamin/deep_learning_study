{
 "cells": [
  {
   "cell_type": "code",
   "execution_count": 3,
   "metadata": {},
   "outputs": [],
   "source": [
    "import tensorflow as tf\n",
    "import numpy as np\n",
    "import matplotlib.pyplot as plt"
   ]
  },
  {
   "cell_type": "code",
   "execution_count": 4,
   "metadata": {},
   "outputs": [
    {
     "name": "stdout",
     "output_type": "stream",
     "text": [
      "13\n",
      "['s', 'r', 'F', ' ', 't', 'C', 'n', 'e', 'z', 'i']\n"
     ]
    }
   ],
   "source": [
    "raw_data = 'First Citizen'\n",
    "n_samples = len(raw_data)\n",
    "unique_chars = list(set(raw_data))\n",
    "print(n_samples)\n",
    "print(unique_chars)"
   ]
  },
  {
   "cell_type": "code",
   "execution_count": 5,
   "metadata": {},
   "outputs": [
    {
     "name": "stdout",
     "output_type": "stream",
     "text": [
      "{'s': 0, 'n': 6, 'r': 1, 'e': 7, 'F': 2, ' ': 3, 't': 4, 'z': 8, 'i': 9, 'C': 5}\n",
      "{0: 's', 1: 'r', 2: 'F', 3: ' ', 4: 't', 5: 'C', 6: 'n', 7: 'e', 8: 'z', 9: 'i'}\n"
     ]
    }
   ],
   "source": [
    "# 문자를 정수로 변환하는 딕셔너리\n",
    "char_to_int = { ch:i for i,ch in enumerate(unique_chars) }\n",
    "# 정수를 문자로 변환하는 딕셔너리\n",
    "int_to_char = { i:ch for i,ch in enumerate(unique_chars) }\n",
    "\n",
    "print(char_to_int)\n",
    "print(int_to_char)"
   ]
  },
  {
   "cell_type": "code",
   "execution_count": 6,
   "metadata": {},
   "outputs": [
    {
     "name": "stdout",
     "output_type": "stream",
     "text": [
      "number of unique chars :  10\n"
     ]
    }
   ],
   "source": [
    "n_unique_chars = len(unique_chars)\n",
    "input_dim = n_unique_chars\n",
    "num_classes = n_unique_chars\n",
    "\n",
    "print('number of unique chars : ',n_unique_chars)"
   ]
  },
  {
   "cell_type": "code",
   "execution_count": 7,
   "metadata": {},
   "outputs": [],
   "source": [
    "seq_len = n_samples-1"
   ]
  },
  {
   "cell_type": "code",
   "execution_count": 36,
   "metadata": {},
   "outputs": [],
   "source": [
    "#-------------------------------------------\n",
    "# 매개변수 설정\n",
    "#-------------------------------------------\n",
    "# 미니배치 크기: 1\n",
    "# 은닉층 크기: 16\n",
    "# 학습률: 0.1\n",
    "# 반복 수: 20\n",
    "batch_size = 1\n",
    "hidden_size = 16\n",
    "learning_rate = 0.1\n",
    "n_epochs = 100"
   ]
  },
  {
   "cell_type": "code",
   "execution_count": 37,
   "metadata": {},
   "outputs": [
    {
     "name": "stdout",
     "output_type": "stream",
     "text": [
      "input :  First Citize\n",
      "output :  irst Citizen\n"
     ]
    }
   ],
   "source": [
    "x = raw_data[:-1]\n",
    "print('input : ',x)\n",
    "y = raw_data[1:]\n",
    "print('output : ',y)"
   ]
  },
  {
   "cell_type": "code",
   "execution_count": 38,
   "metadata": {},
   "outputs": [
    {
     "name": "stdout",
     "output_type": "stream",
     "text": [
      "input :  [2, 9, 1, 0, 4, 3, 5, 9, 4, 9, 8, 7]\n",
      "output :  [9, 1, 0, 4, 3, 5, 9, 4, 9, 8, 7, 6]\n"
     ]
    }
   ],
   "source": [
    "x_int = [char_to_int[n] for n in x]\n",
    "print('input : ',x_int)\n",
    "y_int = [char_to_int[n] for n in y]\n",
    "print('output : ',y_int)"
   ]
  },
  {
   "cell_type": "code",
   "execution_count": 47,
   "metadata": {},
   "outputs": [
    {
     "name": "stdout",
     "output_type": "stream",
     "text": [
      "one hot input :  [[[0. 0. 1. 0. 0. 0. 0. 0. 0. 0.]\n",
      "  [0. 0. 0. 0. 0. 0. 0. 0. 0. 1.]\n",
      "  [0. 1. 0. 0. 0. 0. 0. 0. 0. 0.]\n",
      "  [1. 0. 0. 0. 0. 0. 0. 0. 0. 0.]\n",
      "  [0. 0. 0. 0. 1. 0. 0. 0. 0. 0.]\n",
      "  [0. 0. 0. 1. 0. 0. 0. 0. 0. 0.]\n",
      "  [0. 0. 0. 0. 0. 1. 0. 0. 0. 0.]\n",
      "  [0. 0. 0. 0. 0. 0. 0. 0. 0. 1.]\n",
      "  [0. 0. 0. 0. 1. 0. 0. 0. 0. 0.]\n",
      "  [0. 0. 0. 0. 0. 0. 0. 0. 0. 1.]\n",
      "  [0. 0. 0. 0. 0. 0. 0. 0. 1. 0.]\n",
      "  [0. 0. 0. 0. 0. 0. 0. 1. 0. 0.]]]\n"
     ]
    }
   ],
   "source": [
    "x_one_hot = tf.keras.utils.to_categorical(x_int, \n",
    "n_unique_chars).reshape(batch_size,seq_len, input_dim)\n",
    "\n",
    "y_one_hot = tf.keras.utils.to_categorical(y_int, \n",
    "n_unique_chars).reshape(batch_size,seq_len, input_dim)\n",
    "\n",
    "print('one hot input : ',x_one_hot)"
   ]
  },
  {
   "cell_type": "code",
   "execution_count": 40,
   "metadata": {},
   "outputs": [],
   "source": [
    "model = tf.keras.models.Sequential([\n",
    "    tf.keras.layers.SimpleRNN(hidden_size,\n",
    "                                  input_shape=[seq_len,input_dim],\n",
    "                                  return_sequences=True),\n",
    "    tf.keras.layers.Dense(num_classes)\n",
    "])\n",
    "\n",
    "model.compile(optimizer='adam',\n",
    "              loss='categorical_crossentropy',\n",
    "              metrics=['accuracy'])"
   ]
  },
  {
   "cell_type": "code",
   "execution_count": 41,
   "metadata": {},
   "outputs": [
    {
     "name": "stdout",
     "output_type": "stream",
     "text": [
      "Model: \"sequential_6\"\n",
      "_________________________________________________________________\n",
      "Layer (type)                 Output Shape              Param #   \n",
      "=================================================================\n",
      "simple_rnn_6 (SimpleRNN)     (None, 12, 16)            432       \n",
      "_________________________________________________________________\n",
      "dense_1 (Dense)              (None, 12, 10)            170       \n",
      "=================================================================\n",
      "Total params: 602\n",
      "Trainable params: 602\n",
      "Non-trainable params: 0\n",
      "_________________________________________________________________\n"
     ]
    }
   ],
   "source": [
    "model.summary()"
   ]
  },
  {
   "cell_type": "code",
   "execution_count": 42,
   "metadata": {},
   "outputs": [
    {
     "data": {
      "text/plain": [
       "[9, 1, 0, 4, 3, 5, 9, 4, 9, 8, 7, 6]"
      ]
     },
     "execution_count": 42,
     "metadata": {},
     "output_type": "execute_result"
    }
   ],
   "source": [
    "y_int"
   ]
  },
  {
   "cell_type": "code",
   "execution_count": 43,
   "metadata": {},
   "outputs": [
    {
     "data": {
      "text/plain": [
       "(1, 12, 10)"
      ]
     },
     "execution_count": 43,
     "metadata": {},
     "output_type": "execute_result"
    }
   ],
   "source": [
    "x_one_hot.shape"
   ]
  },
  {
   "cell_type": "code",
   "execution_count": 46,
   "metadata": {},
   "outputs": [
    {
     "name": "stdout",
     "output_type": "stream",
     "text": [
      "Train on 1 samples\n",
      "Epoch 1/100\n",
      "1/1 [==============================] - 0s 17ms/sample - loss: 12.0886 - accuracy: 0.0833\n",
      "Epoch 2/100\n",
      "1/1 [==============================] - 0s 9ms/sample - loss: 12.0886 - accuracy: 0.0833\n",
      "Epoch 3/100\n",
      "1/1 [==============================] - 0s 9ms/sample - loss: 12.0886 - accuracy: 0.0833\n",
      "Epoch 4/100\n",
      "1/1 [==============================] - 0s 19ms/sample - loss: 12.0886 - accuracy: 0.0833\n",
      "Epoch 5/100\n",
      "1/1 [==============================] - 0s 9ms/sample - loss: 12.0886 - accuracy: 0.0833\n",
      "Epoch 6/100\n",
      "1/1 [==============================] - 0s 10ms/sample - loss: 12.0886 - accuracy: 0.0833\n",
      "Epoch 7/100\n",
      "1/1 [==============================] - 0s 9ms/sample - loss: 12.0886 - accuracy: 0.0833\n",
      "Epoch 8/100\n",
      "1/1 [==============================] - 0s 7ms/sample - loss: 12.0886 - accuracy: 0.0833\n",
      "Epoch 9/100\n",
      "1/1 [==============================] - 0s 7ms/sample - loss: 12.0886 - accuracy: 0.0833\n",
      "Epoch 10/100\n",
      "1/1 [==============================] - 0s 8ms/sample - loss: 12.0886 - accuracy: 0.0833\n",
      "Epoch 11/100\n",
      "1/1 [==============================] - 0s 10ms/sample - loss: 12.0886 - accuracy: 0.0833\n",
      "Epoch 12/100\n",
      "1/1 [==============================] - 0s 7ms/sample - loss: 12.0886 - accuracy: 0.0833\n",
      "Epoch 13/100\n",
      "1/1 [==============================] - 0s 7ms/sample - loss: 12.0886 - accuracy: 0.0833\n",
      "Epoch 14/100\n",
      "1/1 [==============================] - 0s 8ms/sample - loss: 12.0886 - accuracy: 0.0833\n",
      "Epoch 15/100\n",
      "1/1 [==============================] - 0s 5ms/sample - loss: 12.0886 - accuracy: 0.0833\n",
      "Epoch 16/100\n",
      "1/1 [==============================] - 0s 7ms/sample - loss: 12.0886 - accuracy: 0.0833\n",
      "Epoch 17/100\n",
      "1/1 [==============================] - 0s 10ms/sample - loss: 12.0886 - accuracy: 0.0833\n",
      "Epoch 18/100\n",
      "1/1 [==============================] - 0s 9ms/sample - loss: 12.0886 - accuracy: 0.0833\n",
      "Epoch 19/100\n",
      "1/1 [==============================] - 0s 7ms/sample - loss: 12.0886 - accuracy: 0.0833\n",
      "Epoch 20/100\n",
      "1/1 [==============================] - 0s 7ms/sample - loss: 12.0886 - accuracy: 0.0833\n",
      "Epoch 21/100\n",
      "1/1 [==============================] - 0s 6ms/sample - loss: 12.0886 - accuracy: 0.0833\n",
      "Epoch 22/100\n",
      "1/1 [==============================] - 0s 10ms/sample - loss: 12.0886 - accuracy: 0.0833\n",
      "Epoch 23/100\n",
      "1/1 [==============================] - 0s 11ms/sample - loss: 12.0886 - accuracy: 0.0833\n",
      "Epoch 24/100\n",
      "1/1 [==============================] - 0s 7ms/sample - loss: 12.0886 - accuracy: 0.0833\n",
      "Epoch 25/100\n",
      "1/1 [==============================] - 0s 5ms/sample - loss: 12.0886 - accuracy: 0.0833\n",
      "Epoch 26/100\n",
      "1/1 [==============================] - 0s 6ms/sample - loss: 12.0886 - accuracy: 0.0833\n",
      "Epoch 27/100\n",
      "1/1 [==============================] - 0s 10ms/sample - loss: 12.0886 - accuracy: 0.0833\n",
      "Epoch 28/100\n",
      "1/1 [==============================] - 0s 7ms/sample - loss: 12.0886 - accuracy: 0.0833\n",
      "Epoch 29/100\n",
      "1/1 [==============================] - 0s 9ms/sample - loss: 12.0886 - accuracy: 0.0833\n",
      "Epoch 30/100\n",
      "1/1 [==============================] - 0s 7ms/sample - loss: 12.0886 - accuracy: 0.0833\n",
      "Epoch 31/100\n",
      "1/1 [==============================] - 0s 7ms/sample - loss: 12.0886 - accuracy: 0.0833\n",
      "Epoch 32/100\n",
      "1/1 [==============================] - 0s 6ms/sample - loss: 12.0886 - accuracy: 0.0833\n",
      "Epoch 33/100\n",
      "1/1 [==============================] - 0s 10ms/sample - loss: 12.0886 - accuracy: 0.0833\n",
      "Epoch 34/100\n",
      "1/1 [==============================] - 0s 8ms/sample - loss: 12.0886 - accuracy: 0.0833\n",
      "Epoch 35/100\n",
      "1/1 [==============================] - 0s 9ms/sample - loss: 12.0886 - accuracy: 0.0833\n",
      "Epoch 36/100\n",
      "1/1 [==============================] - 0s 9ms/sample - loss: 12.0886 - accuracy: 0.0833\n",
      "Epoch 37/100\n",
      "1/1 [==============================] - 0s 7ms/sample - loss: 12.0886 - accuracy: 0.0833\n",
      "Epoch 38/100\n",
      "1/1 [==============================] - 0s 10ms/sample - loss: 12.0886 - accuracy: 0.0833\n",
      "Epoch 39/100\n",
      "1/1 [==============================] - 0s 9ms/sample - loss: 12.0886 - accuracy: 0.0833\n",
      "Epoch 40/100\n",
      "1/1 [==============================] - 0s 8ms/sample - loss: 12.0886 - accuracy: 0.0833\n",
      "Epoch 41/100\n",
      "1/1 [==============================] - 0s 7ms/sample - loss: 12.0886 - accuracy: 0.0833\n",
      "Epoch 42/100\n",
      "1/1 [==============================] - 0s 8ms/sample - loss: 12.0886 - accuracy: 0.0833\n",
      "Epoch 43/100\n",
      "1/1 [==============================] - 0s 7ms/sample - loss: 12.0886 - accuracy: 0.0833\n",
      "Epoch 44/100\n",
      "1/1 [==============================] - 0s 7ms/sample - loss: 12.0886 - accuracy: 0.0833\n",
      "Epoch 45/100\n",
      "1/1 [==============================] - 0s 7ms/sample - loss: 12.0886 - accuracy: 0.0833\n",
      "Epoch 46/100\n",
      "1/1 [==============================] - 0s 10ms/sample - loss: 12.0886 - accuracy: 0.0833\n",
      "Epoch 47/100\n",
      "1/1 [==============================] - 0s 7ms/sample - loss: 12.0886 - accuracy: 0.0833\n",
      "Epoch 48/100\n",
      "1/1 [==============================] - 0s 6ms/sample - loss: 12.0886 - accuracy: 0.0833\n",
      "Epoch 49/100\n",
      "1/1 [==============================] - 0s 8ms/sample - loss: 12.0886 - accuracy: 0.0833\n",
      "Epoch 50/100\n",
      "1/1 [==============================] - 0s 6ms/sample - loss: 12.0886 - accuracy: 0.0833\n",
      "Epoch 51/100\n",
      "1/1 [==============================] - 0s 6ms/sample - loss: 12.0886 - accuracy: 0.0833\n",
      "Epoch 52/100\n",
      "1/1 [==============================] - 0s 10ms/sample - loss: 12.0886 - accuracy: 0.0833\n",
      "Epoch 53/100\n",
      "1/1 [==============================] - 0s 9ms/sample - loss: 12.0886 - accuracy: 0.0833\n",
      "Epoch 54/100\n",
      "1/1 [==============================] - 0s 7ms/sample - loss: 12.0886 - accuracy: 0.0833\n",
      "Epoch 55/100\n",
      "1/1 [==============================] - 0s 8ms/sample - loss: 12.0886 - accuracy: 0.0833\n",
      "Epoch 56/100\n",
      "1/1 [==============================] - 0s 7ms/sample - loss: 12.0886 - accuracy: 0.0833\n",
      "Epoch 57/100\n",
      "1/1 [==============================] - 0s 7ms/sample - loss: 12.0886 - accuracy: 0.0833\n",
      "Epoch 58/100\n",
      "1/1 [==============================] - 0s 10ms/sample - loss: 12.0886 - accuracy: 0.0833\n",
      "Epoch 59/100\n",
      "1/1 [==============================] - 0s 11ms/sample - loss: 12.0886 - accuracy: 0.0833\n",
      "Epoch 60/100\n",
      "1/1 [==============================] - 0s 8ms/sample - loss: 12.0886 - accuracy: 0.0833\n",
      "Epoch 61/100\n",
      "1/1 [==============================] - 0s 9ms/sample - loss: 12.0886 - accuracy: 0.0833\n",
      "Epoch 62/100\n",
      "1/1 [==============================] - 0s 11ms/sample - loss: 12.0886 - accuracy: 0.0833\n",
      "Epoch 63/100\n",
      "1/1 [==============================] - 0s 8ms/sample - loss: 12.0886 - accuracy: 0.0833\n",
      "Epoch 64/100\n",
      "1/1 [==============================] - 0s 9ms/sample - loss: 12.0886 - accuracy: 0.0833\n",
      "Epoch 65/100\n",
      "1/1 [==============================] - 0s 8ms/sample - loss: 12.0886 - accuracy: 0.0833\n",
      "Epoch 66/100\n",
      "1/1 [==============================] - 0s 7ms/sample - loss: 12.0886 - accuracy: 0.0833\n",
      "Epoch 67/100\n",
      "1/1 [==============================] - 0s 11ms/sample - loss: 12.0886 - accuracy: 0.0833\n",
      "Epoch 68/100\n",
      "1/1 [==============================] - 0s 7ms/sample - loss: 12.0886 - accuracy: 0.0833\n",
      "Epoch 69/100\n",
      "1/1 [==============================] - 0s 8ms/sample - loss: 12.0886 - accuracy: 0.0833\n",
      "Epoch 70/100\n",
      "1/1 [==============================] - 0s 6ms/sample - loss: 12.0886 - accuracy: 0.0833\n",
      "Epoch 71/100\n",
      "1/1 [==============================] - 0s 11ms/sample - loss: 12.0886 - accuracy: 0.0833\n",
      "Epoch 72/100\n",
      "1/1 [==============================] - 0s 6ms/sample - loss: 12.0886 - accuracy: 0.0833\n",
      "Epoch 73/100\n",
      "1/1 [==============================] - 0s 7ms/sample - loss: 12.0886 - accuracy: 0.0833\n",
      "Epoch 74/100\n",
      "1/1 [==============================] - 0s 5ms/sample - loss: 12.0886 - accuracy: 0.0833\n",
      "Epoch 75/100\n",
      "1/1 [==============================] - 0s 7ms/sample - loss: 12.0886 - accuracy: 0.0833\n",
      "Epoch 76/100\n",
      "1/1 [==============================] - 0s 11ms/sample - loss: 12.0886 - accuracy: 0.0833\n",
      "Epoch 77/100\n",
      "1/1 [==============================] - 0s 6ms/sample - loss: 12.0886 - accuracy: 0.0833\n",
      "Epoch 78/100\n",
      "1/1 [==============================] - 0s 8ms/sample - loss: 12.0886 - accuracy: 0.0833\n",
      "Epoch 79/100\n",
      "1/1 [==============================] - 0s 6ms/sample - loss: 12.0886 - accuracy: 0.0833\n",
      "Epoch 80/100\n",
      "1/1 [==============================] - 0s 11ms/sample - loss: 12.0886 - accuracy: 0.0833\n",
      "Epoch 81/100\n",
      "1/1 [==============================] - 0s 5ms/sample - loss: 12.0886 - accuracy: 0.0833\n"
     ]
    },
    {
     "name": "stdout",
     "output_type": "stream",
     "text": [
      "Epoch 82/100\n",
      "1/1 [==============================] - 0s 6ms/sample - loss: 12.0886 - accuracy: 0.0833\n",
      "Epoch 83/100\n",
      "1/1 [==============================] - 0s 7ms/sample - loss: 12.0886 - accuracy: 0.0833\n",
      "Epoch 84/100\n",
      "1/1 [==============================] - 0s 7ms/sample - loss: 12.0886 - accuracy: 0.0833\n",
      "Epoch 85/100\n",
      "1/1 [==============================] - 0s 12ms/sample - loss: 12.0886 - accuracy: 0.0833\n",
      "Epoch 86/100\n",
      "1/1 [==============================] - 0s 7ms/sample - loss: 12.0886 - accuracy: 0.0833\n",
      "Epoch 87/100\n",
      "1/1 [==============================] - 0s 6ms/sample - loss: 12.0886 - accuracy: 0.0833\n",
      "Epoch 88/100\n",
      "1/1 [==============================] - 0s 7ms/sample - loss: 12.0886 - accuracy: 0.0833\n",
      "Epoch 89/100\n",
      "1/1 [==============================] - 0s 11ms/sample - loss: 12.0886 - accuracy: 0.0833\n",
      "Epoch 90/100\n",
      "1/1 [==============================] - 0s 9ms/sample - loss: 12.0886 - accuracy: 0.0833\n",
      "Epoch 91/100\n",
      "1/1 [==============================] - 0s 11ms/sample - loss: 12.0886 - accuracy: 0.0833\n",
      "Epoch 92/100\n",
      "1/1 [==============================] - 0s 10ms/sample - loss: 12.0886 - accuracy: 0.0833\n",
      "Epoch 93/100\n",
      "1/1 [==============================] - 0s 9ms/sample - loss: 12.0886 - accuracy: 0.0833\n",
      "Epoch 94/100\n",
      "1/1 [==============================] - 0s 10ms/sample - loss: 12.0886 - accuracy: 0.0833\n",
      "Epoch 95/100\n",
      "1/1 [==============================] - 0s 14ms/sample - loss: 12.0886 - accuracy: 0.0833\n",
      "Epoch 96/100\n",
      "1/1 [==============================] - 0s 13ms/sample - loss: 12.0886 - accuracy: 0.0833\n",
      "Epoch 97/100\n",
      "1/1 [==============================] - 0s 7ms/sample - loss: 12.0886 - accuracy: 0.0833\n",
      "Epoch 98/100\n",
      "1/1 [==============================] - 0s 10ms/sample - loss: 12.0886 - accuracy: 0.0833\n",
      "Epoch 99/100\n",
      "1/1 [==============================] - 0s 8ms/sample - loss: 12.0886 - accuracy: 0.0833\n",
      "Epoch 100/100\n",
      "1/1 [==============================] - 0s 11ms/sample - loss: 12.0886 - accuracy: 0.0833\n"
     ]
    },
    {
     "data": {
      "text/plain": [
       "<tensorflow.python.keras.callbacks.History at 0x17d2df15320>"
      ]
     },
     "execution_count": 46,
     "metadata": {},
     "output_type": "execute_result"
    }
   ],
   "source": [
    "model.fit(np.array(x_one_hot), np.array(y_one_hot), epochs=n_epochs)"
   ]
  },
  {
   "cell_type": "code",
   "execution_count": null,
   "metadata": {},
   "outputs": [],
   "source": []
  }
 ],
 "metadata": {
  "kernelspec": {
   "display_name": "py35",
   "language": "python",
   "name": "py35"
  },
  "language_info": {
   "codemirror_mode": {
    "name": "ipython",
    "version": 3
   },
   "file_extension": ".py",
   "mimetype": "text/x-python",
   "name": "python",
   "nbconvert_exporter": "python",
   "pygments_lexer": "ipython3",
   "version": "3.5.6"
  }
 },
 "nbformat": 4,
 "nbformat_minor": 2
}
