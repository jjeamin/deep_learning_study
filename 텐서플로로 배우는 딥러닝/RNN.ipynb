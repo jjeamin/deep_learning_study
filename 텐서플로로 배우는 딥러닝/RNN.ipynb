{
 "cells": [
  {
   "cell_type": "code",
   "execution_count": 1,
   "metadata": {},
   "outputs": [],
   "source": [
    "import tensorflow as tf\n",
    "import numpy as np\n",
    "import matplotlib.pyplot as plt"
   ]
  },
  {
   "cell_type": "code",
   "execution_count": 7,
   "metadata": {},
   "outputs": [
    {
     "name": "stdout",
     "output_type": "stream",
     "text": [
      "13\n",
      "['C', 'r', 'e', 'z', 'i', 't', 'n', ' ', 'F', 's']\n"
     ]
    }
   ],
   "source": [
    "raw_data = 'First Citizen'\n",
    "n_samples = len(raw_data)\n",
    "unique_chars = list(set(raw_data))\n",
    "print(n_samples)\n",
    "print(unique_chars)"
   ]
  },
  {
   "cell_type": "code",
   "execution_count": 8,
   "metadata": {},
   "outputs": [
    {
     "name": "stdout",
     "output_type": "stream",
     "text": [
      "{'s': 9, 'C': 0, 'r': 1, 'e': 2, 'z': 3, 'i': 4, 't': 5, 'F': 8, ' ': 7, 'n': 6}\n",
      "{0: 'C', 1: 'r', 2: 'e', 3: 'z', 4: 'i', 5: 't', 6: 'n', 7: ' ', 8: 'F', 9: 's'}\n"
     ]
    }
   ],
   "source": [
    "# 문자를 정수로 변환하는 딕셔너리\n",
    "char_to_int = { ch:i for i,ch in enumerate(unique_chars) }\n",
    "# 정수를 문자로 변환하는 딕셔너리\n",
    "int_to_char = { i:ch for i,ch in enumerate(unique_chars) }\n",
    "\n",
    "print(char_to_int)\n",
    "print(int_to_char)"
   ]
  },
  {
   "cell_type": "code",
   "execution_count": 11,
   "metadata": {},
   "outputs": [
    {
     "name": "stdout",
     "output_type": "stream",
     "text": [
      "number of unique chars :  10\n"
     ]
    }
   ],
   "source": [
    "n_unique_chars = len(unique_chars)\n",
    "input_dim = n_unique_chars\n",
    "num_classes = n_unique_chars\n",
    "\n",
    "print('number of unique chars : ',n_unique_chars)"
   ]
  },
  {
   "cell_type": "code",
   "execution_count": 12,
   "metadata": {},
   "outputs": [],
   "source": [
    "seq_len = n_samples-1"
   ]
  },
  {
   "cell_type": "code",
   "execution_count": 13,
   "metadata": {},
   "outputs": [],
   "source": [
    "#-------------------------------------------\n",
    "# 매개변수 설정\n",
    "#-------------------------------------------\n",
    "# 미니배치 크기: 1\n",
    "# 은닉층 크기: 16\n",
    "# 학습률: 0.1\n",
    "# 반복 수: 20\n",
    "batch_size = 1\n",
    "hidden_size = 16\n",
    "learning_rate = 0.1\n",
    "n_epochs = 20"
   ]
  },
  {
   "cell_type": "code",
   "execution_count": 16,
   "metadata": {},
   "outputs": [
    {
     "name": "stdout",
     "output_type": "stream",
     "text": [
      "input :  First Citize\n",
      "output :  irst Citizen\n"
     ]
    }
   ],
   "source": [
    "x = raw_data[:-1]\n",
    "print('input : ',x)\n",
    "y = raw_data[1:]\n",
    "print('output : ',y)"
   ]
  },
  {
   "cell_type": "code",
   "execution_count": 17,
   "metadata": {},
   "outputs": [
    {
     "name": "stdout",
     "output_type": "stream",
     "text": [
      "input :  [8, 4, 1, 9, 5, 7, 0, 4, 5, 4, 3, 2]\n",
      "output :  [4, 1, 9, 5, 7, 0, 4, 5, 4, 3, 2, 6]\n"
     ]
    }
   ],
   "source": [
    "x_int = [char_to_int[n] for n in x]\n",
    "print('input : ',x_int)\n",
    "y_int = [char_to_int[n] for n in y]\n",
    "print('output : ',y_int)"
   ]
  },
  {
   "cell_type": "code",
   "execution_count": 20,
   "metadata": {},
   "outputs": [
    {
     "name": "stdout",
     "output_type": "stream",
     "text": [
      "ont hot input :  [[[0. 0. 0. 0. 0. 0. 0. 0. 1. 0.]\n",
      "  [0. 0. 0. 0. 1. 0. 0. 0. 0. 0.]\n",
      "  [0. 1. 0. 0. 0. 0. 0. 0. 0. 0.]\n",
      "  [0. 0. 0. 0. 0. 0. 0. 0. 0. 1.]\n",
      "  [0. 0. 0. 0. 0. 1. 0. 0. 0. 0.]\n",
      "  [0. 0. 0. 0. 0. 0. 0. 1. 0. 0.]\n",
      "  [1. 0. 0. 0. 0. 0. 0. 0. 0. 0.]\n",
      "  [0. 0. 0. 0. 1. 0. 0. 0. 0. 0.]\n",
      "  [0. 0. 0. 0. 0. 1. 0. 0. 0. 0.]\n",
      "  [0. 0. 0. 0. 1. 0. 0. 0. 0. 0.]\n",
      "  [0. 0. 0. 1. 0. 0. 0. 0. 0. 0.]\n",
      "  [0. 0. 1. 0. 0. 0. 0. 0. 0. 0.]]]\n"
     ]
    }
   ],
   "source": [
    "x_one_hot = tf.keras.utils.to_categorical(x_int, \n",
    "n_unique_chars).reshape(batch_size,seq_len, input_dim)\n",
    "\n",
    "print('ont hot input : ',x_one_hot)"
   ]
  },
  {
   "cell_type": "code",
   "execution_count": 31,
   "metadata": {},
   "outputs": [],
   "source": [
    "model = tf.keras.models.Sequential([\n",
    "    tf.keras.layers.SimpleRNN(hidden_size,\n",
    "                                  input_shape=[seq_len,input_dim],\n",
    "                                  return_sequences=True)\n",
    "])\n",
    "\n",
    "model.compile(optimizer='adam',\n",
    "              learning_rate=learning_rate,\n",
    "              loss='sparse_categorical_crossentropy',\n",
    "              metrics=['accuracy'])"
   ]
  },
  {
   "cell_type": "code",
   "execution_count": 34,
   "metadata": {},
   "outputs": [
    {
     "name": "stdout",
     "output_type": "stream",
     "text": [
      "Model: \"sequential_5\"\n",
      "_________________________________________________________________\n",
      "Layer (type)                 Output Shape              Param #   \n",
      "=================================================================\n",
      "simple_rnn (SimpleRNN)       (None, 12, 16)            432       \n",
      "=================================================================\n",
      "Total params: 432\n",
      "Trainable params: 432\n",
      "Non-trainable params: 0\n",
      "_________________________________________________________________\n"
     ]
    }
   ],
   "source": [
    "model.summary()"
   ]
  },
  {
   "cell_type": "code",
   "execution_count": null,
   "metadata": {},
   "outputs": [],
   "source": []
  }
 ],
 "metadata": {
  "kernelspec": {
   "display_name": "py35",
   "language": "python",
   "name": "py35"
  },
  "language_info": {
   "codemirror_mode": {
    "name": "ipython",
    "version": 3
   },
   "file_extension": ".py",
   "mimetype": "text/x-python",
   "name": "python",
   "nbconvert_exporter": "python",
   "pygments_lexer": "ipython3",
   "version": "3.5.6"
  }
 },
 "nbformat": 4,
 "nbformat_minor": 2
}
