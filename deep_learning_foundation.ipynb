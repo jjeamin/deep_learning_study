{
 "cells": [
  {
   "cell_type": "code",
   "execution_count": 64,
   "metadata": {},
   "outputs": [],
   "source": [
    "# coding: utf-8\n",
    "import numpy as np\n",
    "\n",
    "\n",
    "def identity_function(x):\n",
    "    return x\n",
    "\n",
    "\n",
    "def step_function(x):\n",
    "    return np.array(x > 0, dtype=np.int)\n",
    "\n",
    "\n",
    "def sigmoid(x):\n",
    "    return 1 / (1 + np.exp(-x))    \n",
    "\n",
    "\n",
    "def sigmoid_grad(x):\n",
    "    return (1.0 - sigmoid(x)) * sigmoid(x)\n",
    "    \n",
    "\n",
    "def relu(x):\n",
    "    return np.maximum(0, x)\n",
    "\n",
    "\n",
    "def relu_grad(x):\n",
    "    grad = np.zeros(x)\n",
    "    grad[x>=0] = 1\n",
    "    return grad\n",
    "    \n",
    "\n",
    "def softmax(x): #소프트 맥스 함수 모든값을 합하면 1이 나오도록 확률을 나타내줍니다.\n",
    "    if x.ndim == 2: #2행\n",
    "        x = x.T #전치행렬\n",
    "        x = x - np.max(x, axis=0) \n",
    "        y = np.exp(x) / np.sum(np.exp(x), axis=0) #exp = 지수\n",
    "        return y.T \n",
    "\n",
    "    x = x - np.max(x) # 오버플로 대책\n",
    "    return np.exp(x) / np.sum(np.exp(x))\n",
    "\n",
    "\n",
    "def mean_squared_error(y, t):\n",
    "    return 0.5 * np.sum((y-t)**2)\n",
    "\n",
    "\n",
    "def cross_entropy_error(y, t): #t는 정답! 정답값만 1이다.\n",
    "    if y.ndim == 1:\n",
    "        t = t.reshape(1, t.size)\n",
    "        y = y.reshape(1, y.size)\n",
    "        \n",
    "    # 훈련 데이터가 원-핫 벡터라면 정답 레이블의 인덱스로 반환\n",
    "    if t.size == y.size:\n",
    "        t = t.argmax(axis=1) #1축(1행)에서 큰값의 위치를 반환한다\n",
    "             \n",
    "    batch_size = y.shape[0]  #배치사이즈 = y의 행의 개수 \n",
    "    return -np.sum(np.log(y[np.arange(batch_size), t] + 1e-7)) / batch_size\n",
    "\n",
    "\n",
    "def softmax_loss(X, t):\n",
    "    y = softmax(X)\n",
    "    return cross_entropy_error(y, t)\n",
    "\n",
    "\n",
    "def numerical_gradient(f, x):\n",
    "    h = 1e-4 # 0.0001\n",
    "    grad = np.zeros_like(x)\n",
    "    \n",
    "    it = np.nditer(x, flags=['multi_index'], op_flags=['readwrite'])\n",
    "    while not it.finished:\n",
    "        idx = it.multi_index\n",
    "        tmp_val = x[idx]\n",
    "        x[idx] = float(tmp_val) + h\n",
    "        fxh1 = f(x) # f(x+h)\n",
    "        \n",
    "        x[idx] = tmp_val - h \n",
    "        fxh2 = f(x) # f(x-h)\n",
    "        grad[idx] = (fxh1 - fxh2) / (2*h)\n",
    "        \n",
    "        x[idx] = tmp_val # 값 복원\n",
    "        it.iternext()   \n",
    "        \n",
    "    return grad\n"
   ]
  },
  {
   "cell_type": "code",
   "execution_count": 65,
   "metadata": {},
   "outputs": [
    {
     "data": {
      "image/png": "[encoded data removed]",
      "text/plain": [
       "<Figure size 432x288 with 1 Axes>"
      ]
     },
     "metadata": {
      "needs_background": "light"
     },
     "output_type": "display_data"
    }
   ],
   "source": [
    "import numpy as np\n",
    "import matplotlib.pylab as plt\n",
    "\n",
    "x = np.arange(0.0,20.0,0.1)\n",
    "y = 0.01*x**2+0.1*x\n",
    "plt.xlabel(\"x\")\n",
    "plt.ylabel(\"y\")\n",
    "plt.plot(x,y)\n",
    "plt.show()"
   ]
  },
  {
   "cell_type": "markdown",
   "metadata": {},
   "source": [
    "## 경사법"
   ]
  },
  {
   "cell_type": "code",
   "execution_count": 66,
   "metadata": {},
   "outputs": [],
   "source": [
    "def gradient_descent(f,init_x,learning_rate=0.01,step_num=1000): #하이퍼파라미터(학습률,초기값,스텝)\n",
    "    x = init_x   #초기값\n",
    "    \n",
    "    for i in range(step_num):\n",
    "        grad = numerical_gradient(f,x)  #기울기\n",
    "        x -= learning_rate*grad    #초기값에 학습률 x 기울기를 계속 빼주면서 최소값을 찾는다.\n",
    "    return x"
   ]
  },
  {
   "cell_type": "code",
   "execution_count": 67,
   "metadata": {},
   "outputs": [
    {
     "data": {
      "text/plain": [
       "array([-5.04890207e-09, -6.73186943e-09])"
      ]
     },
     "execution_count": 67,
     "metadata": {},
     "output_type": "execute_result"
    }
   ],
   "source": [
    "def func_1(x):\n",
    "    return x[0]**2 + x[1]**2\n",
    "\n",
    "init_x = np.array([-3.0,-4.0])\n",
    "gradient_descent(func_1,init_x)"
   ]
  },
  {
   "cell_type": "markdown",
   "metadata": {},
   "source": [
    "## 간단한 신경망"
   ]
  },
  {
   "cell_type": "code",
   "execution_count": 68,
   "metadata": {},
   "outputs": [],
   "source": [
    "class simpleNet:\n",
    "    def __init__(self):\n",
    "        self.W = np.random.randn(2,3)\n",
    "        \n",
    "    def predict(self,x):\n",
    "        return np.dot(x,self.W)\n",
    "    \n",
    "    def loss(self,x,t):\n",
    "        y = softmax(self.predict(x))\n",
    "        loss = cross_entropy_error(y,t) \n",
    "        return loss"
   ]
  },
  {
   "cell_type": "code",
   "execution_count": 69,
   "metadata": {},
   "outputs": [],
   "source": [
    "net = simpleNet()"
   ]
  },
  {
   "cell_type": "code",
   "execution_count": 70,
   "metadata": {},
   "outputs": [
    {
     "name": "stdout",
     "output_type": "stream",
     "text": [
      "[[-0.75779322  1.26551103  1.04171957]\n",
      " [ 0.33882739  0.31834428  0.60373831]]\n"
     ]
    }
   ],
   "source": [
    "print(net.W)"
   ]
  },
  {
   "cell_type": "code",
   "execution_count": 71,
   "metadata": {},
   "outputs": [
    {
     "name": "stdout",
     "output_type": "stream",
     "text": [
      "[-0.14973129  1.04581647  1.16839622]\n"
     ]
    }
   ],
   "source": [
    "x = np.array([0.6,0.9])\n",
    "p = net.predict(x)\n",
    "print(p)"
   ]
  },
  {
   "cell_type": "code",
   "execution_count": 72,
   "metadata": {},
   "outputs": [
    {
     "data": {
      "text/plain": [
       "2"
      ]
     },
     "execution_count": 72,
     "metadata": {},
     "output_type": "execute_result"
    }
   ],
   "source": [
    "np.argmax(p)"
   ]
  },
  {
   "cell_type": "code",
   "execution_count": 73,
   "metadata": {},
   "outputs": [
    {
     "name": "stdout",
     "output_type": "stream",
     "text": [
      "0.7665235031562551\n"
     ]
    }
   ],
   "source": [
    "t = np.array([0,0,1])\n",
    "cost = net.loss(x,t)\n",
    "print(cost)"
   ]
  },
  {
   "cell_type": "markdown",
   "metadata": {},
   "source": [
    "## 미니배치 : 데이터를 가져와서 손실함수를 줄이는 것을 목표로 한다.\n",
    "## 기울기 산출 : 손실함수를 줄이기 위해서 기울기를 구합니다. 손실함수를 작게해주는 방향을 제시\n",
    "## 매개변수 갱신 : 기울기 방향으로 조금 갱신"
   ]
  },
  {
   "cell_type": "code",
   "execution_count": 74,
   "metadata": {},
   "outputs": [],
   "source": [
    "class TwoLayerNet:\n",
    "    def __init__(self, input_size, hidden_size, output_size, weight_init_std=0.01):\n",
    "        self.params = {}\n",
    "        self.params['W1'] = weight_init_std * np.random.randn(input_size,hidden_size)\n",
    "        self.params['b1'] = np.zeros(hidden_size)\n",
    "        self.params['W2'] = weight_init_std * np.random.randn(hidden_size,output_size)\n",
    "        self.params['b2'] = np.zeros(output_size)\n",
    "        \n",
    "    def predict(self,x):#값을 예측\n",
    "        W1, W2 = self.params['W1'] , self.params['W2']\n",
    "        b1, b2 = self.params['b1'] , self.params['b2']\n",
    "        \n",
    "        step = np.dot(x, W1) + b1\n",
    "        af = sigmoid(step) #1 / (1 + np.exp(-x))\n",
    "        step2 = np.dot(af,W2) + b2\n",
    "        y = softmax(step2)\n",
    "        \n",
    "        return y\n",
    "    \n",
    "    def loss(self,x,t): #x: 입력데이터 t: 정답데이터\n",
    "        y = self.predict(x)\n",
    "        \n",
    "        return cross_entropy_error(y,t) #손실률\n",
    "    \n",
    "    def accuracy(self,x,t):\n",
    "        y = self.predict(x)\n",
    "        y = np.argmax(y, axis=1) #각 행에서 큰값의 위치를 반환한다\n",
    "        t = np.argmax(t, axis=1)\n",
    "        \n",
    "        accuracy = np.sum(y == t) / float(x.shape[0])\n",
    "        return accuracy\n",
    "    \n",
    "    def numerical_gradient(self, x, t):\n",
    "        loss_W = lambda W: self.loss(x, t) #손실함수\n",
    "        #람다함수는 함수를 한줄로..\n",
    "        # W = self.loss(x,t)\n",
    "        \n",
    "        grads = {} #딕셔너리\n",
    "        grads['W1'] = numerical_gradient(loss_W, self.params['W1']) #기울기를 저장\n",
    "        grads['b1'] = numerical_gradient(loss_W, self.params['b1'])\n",
    "        grads['W2'] = numerical_gradient(loss_W, self.params['W2'])\n",
    "        grads['b2'] = numerical_gradient(loss_W, self.params['b2'])\n",
    "        \n",
    "        return grads\n",
    "\n",
    "    def gradient(self, x, t):\n",
    "        W1, W2 = self.params['W1'], self.params['W2']\n",
    "        b1, b2 = self.params['b1'], self.params['b2']\n",
    "        grads = {}\n",
    "        \n",
    "        batch_num = x.shape[0]\n",
    "        \n",
    "        # forward\n",
    "        a1 = np.dot(x, W1) + b1\n",
    "        z1 = sigmoid(a1)\n",
    "        a2 = np.dot(z1, W2) + b2\n",
    "        y = softmax(a2)\n",
    "        \n",
    "        # backward\n",
    "        dy = (y - t) / batch_num\n",
    "        grads['W2'] = np.dot(z1.T, dy)\n",
    "        grads['b2'] = np.sum(dy, axis=0)\n",
    "        \n",
    "        da1 = np.dot(dy, W2.T)\n",
    "        dz1 = sigmoid_grad(a1) * da1\n",
    "        grads['W1'] = np.dot(x.T, dz1)\n",
    "        grads['b1'] = np.sum(dz1, axis=0)\n",
    "\n",
    "        return grads\n",
    "        "
   ]
  },
  {
   "cell_type": "code",
   "execution_count": 75,
   "metadata": {},
   "outputs": [
    {
     "name": "stdout",
     "output_type": "stream",
     "text": [
      "(784, 100)\n",
      "(100,)\n",
      "(100, 10)\n",
      "(10,)\n"
     ]
    }
   ],
   "source": [
    "net = TwoLayerNet(input_size=784,hidden_size=100,output_size=10)\n",
    "print(net.params['W1'].shape)\n",
    "print(net.params['b1'].shape)\n",
    "print(net.params['W2'].shape)\n",
    "print(net.params['b2'].shape)"
   ]
  },
  {
   "cell_type": "markdown",
   "metadata": {},
   "source": [
    "### 학습데이터,정답데이터를 뽑는다\n",
    "### 모델을 프레임을 구축한다 (input size,hidden size,output size)\n",
    "### 손실함수 기울기를 계산한다\n",
    "#### =>모델을 실행시킨다 input layer-> sigmoid -> hidden layer-> softmax -> output layer\n",
    "#### =>예측된  데이터와 정답 데이터의 손실율을 가져온다.\n",
    "#### =>손실함수를 줄이기 위해 미분으로 기울기를 계산한다(미분은 기울기가 작아지는 방향을 제시해준다)\n",
    "### 계속학습시킨다(가중치값 - 학습률*기울기)\n",
    "\n",
    "#### sigmoid = 0과 1사이로 수렴 -> ox 구분\n",
    "#### softmax = 확률  퍼센트         -> 분류 구분   "
   ]
  },
  {
   "cell_type": "code",
   "execution_count": null,
   "metadata": {},
   "outputs": [],
   "source": [
    "import numpy as np\n",
    "from dataset.mnist import load_mnist\n",
    "\n",
    "(x_train, t_train), (x_test, t_test) = load_mnist(normalize = True, one_hot_label=True)\n",
    "\n",
    "train_loss_list = []\n",
    "\n",
    "#하이퍼 파라미터 = 값을 정해줘야하는 것\n",
    "iters_num = 10000 #반복 횟수\n",
    "train_size = x_train.shape[0] #학습 사이즈             600개\n",
    "print(x_train.shape)\n",
    "batch_size = 100 #배치사이즈 = 한번에 학습시키는 회수 100개씩\n",
    "learning_rate = 0.1 #학습률\n",
    "\n",
    "net = TwoLayerNet(input_size=784,hidden_size=100,output_size=10)\n",
    "\n",
    "for i in range(iters_num):\n",
    "    #미니배치\n",
    "    batch_mask = np.random.choice(train_size,batch_size) #600개에서 100개 랜덤추출\n",
    "    x_batch = x_train[batch_mask]\n",
    "    t_batch = t_train[batch_mask]\n",
    "    \n",
    "    #기울기\n",
    "    grad = net.numerical_gradient(x_batch,t_batch)\n",
    "    \n",
    "    #매개변수 갱신\n",
    "    for key in ('W1','b1','W2','b2'):\n",
    "        net.params[key] -= learning_rate*grad[key]\n",
    "    \n",
    "    #기록\n",
    "    loss = net.loss(x_batch,t_batch)\n",
    "    train_loss_list.append(loss)\n",
    "\n",
    "print(train_loss_list[0][0])"
   ]
  },
  {
   "cell_type": "markdown",
   "metadata": {},
   "source": [
    "### softmax -> cross entropy(손실함수) -> 손실함수에 대한 기울기 구하기\n",
    "### 학습: 학습데이터가 값을 예측한다 (sigmoid, softmax 활성함수) -> 예측된 학습데이터와 시험데이터를 사용해 손실함수(cross entropy)를 구한다 -> 손실함수에 대한 가중치값의 기울기를 구한다 -> 기울기와 학습률을 곱하고 가중치에 계속해서 빼준다"
   ]
  },
  {
   "cell_type": "code",
   "execution_count": null,
   "metadata": {},
   "outputs": [],
   "source": []
  }
 ],
 "metadata": {
  "kernelspec": {
   "display_name": "Python [conda env:py35_64]",
   "language": "python",
   "name": "conda-env-py35_64-py"
  },
  "language_info": {
   "codemirror_mode": {
    "name": "ipython",
    "version": 3
   },
   "file_extension": ".py",
   "mimetype": "text/x-python",
   "name": "python",
   "nbconvert_exporter": "python",
   "pygments_lexer": "ipython3",
   "version": "3.5.6"
  }
 },
 "nbformat": 4,
 "nbformat_minor": 2
}
