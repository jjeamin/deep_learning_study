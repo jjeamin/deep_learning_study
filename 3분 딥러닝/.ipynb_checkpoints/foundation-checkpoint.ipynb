{
 "cells": [
  {
   "cell_type": "markdown",
   "metadata": {},
   "source": [
    "# 텐서플로우\n",
    "- 1.그래프 만들기\n",
    "- 2.그래프 실행"
   ]
  },
  {
   "cell_type": "code",
   "execution_count": 1,
   "metadata": {},
   "outputs": [],
   "source": [
    "import tensorflow as tf"
   ]
  },
  {
   "cell_type": "code",
   "execution_count": 2,
   "metadata": {},
   "outputs": [
    {
     "name": "stdout",
     "output_type": "stream",
     "text": [
      "Tensor(\"Const:0\", shape=(), dtype=string)\n"
     ]
    }
   ],
   "source": [
    "hello = tf.constant('Hello World')\n",
    "print(hello)"
   ]
  },
  {
   "cell_type": "code",
   "execution_count": 14,
   "metadata": {},
   "outputs": [
    {
     "data": {
      "text/plain": [
       "b'Hello World'"
      ]
     },
     "execution_count": 14,
     "metadata": {},
     "output_type": "execute_result"
    }
   ],
   "source": [
    "sess = tf.Session()\n",
    "\n",
    "sess.run(hello)"
   ]
  },
  {
   "cell_type": "markdown",
   "metadata": {},
   "source": [
    "3 : 스칼라 </br>\n",
    "\n",
    "[] : 벡터 </br>\n",
    "\n",
    "[[],[]] : 행렬 </br>"
   ]
  },
  {
   "cell_type": "code",
   "execution_count": 15,
   "metadata": {},
   "outputs": [
    {
     "data": {
      "text/plain": [
       "42"
      ]
     },
     "execution_count": 15,
     "metadata": {},
     "output_type": "execute_result"
    }
   ],
   "source": [
    "a = tf.constant(10)\n",
    "b = tf.constant(32)\n",
    "c = tf.add(a,b)\n",
    "\n",
    "sess.run(c)"
   ]
  },
  {
   "cell_type": "markdown",
   "metadata": {},
   "source": [
    "### 플레이스 홀더\n",
    "```\n",
    "tf.placeholder(tf.float32,[None,3])\n",
    "```\n",
    "- 그래프에 사용할 입력값을 나중에 받는 매개변수\n",
    "\n",
    "### 변수\n",
    "```\n",
    "tf.Variable(tf.random_normal([3,2]))\n",
    "```\n",
    "- 변하는 숫자"
   ]
  },
  {
   "cell_type": "code",
   "execution_count": 9,
   "metadata": {},
   "outputs": [
    {
     "name": "stdout",
     "output_type": "stream",
     "text": [
      "Tensor(\"Placeholder:0\", shape=(?, 3), dtype=float32)\n"
     ]
    }
   ],
   "source": [
    "X = tf.placeholder(tf.float32,[None,3])\n",
    "print(X)"
   ]
  },
  {
   "cell_type": "code",
   "execution_count": 18,
   "metadata": {},
   "outputs": [
    {
     "name": "stdout",
     "output_type": "stream",
     "text": [
      "=== x_data ===\n",
      "[[1, 2, 3], [4, 5, 6]]\n",
      "====== W ======\n",
      "[[ 0.77293724 -0.96338135]\n",
      " [ 0.64620286  0.45558184]\n",
      " [ 0.01700941  0.10060246]]\n",
      "====== b ======\n",
      "[[0.22644597]\n",
      " [1.6398138 ]]\n",
      "==== expr ====\n",
      "[[2.342817   0.47603568]\n",
      " [8.064633   0.6678124 ]]\n"
     ]
    }
   ],
   "source": [
    "import tensorflow as tf\n",
    "\n",
    "X = tf.placeholder(tf.float32,[None,3])\n",
    "\n",
    "x_data = [[1,2,3],[4,5,6]]\n",
    "W = tf.Variable(tf.random_normal([3,2]))\n",
    "b = tf.Variable(tf.random_normal([2,1]))\n",
    "\n",
    "expr = tf.matmul(X,W) + b\n",
    "\n",
    "sess = tf.Session()\n",
    "sess.run(tf.global_variables_initializer())\n",
    "\n",
    "print(\"=== x_data ===\")\n",
    "print(x_data)\n",
    "print(\"====== W ======\")\n",
    "print(sess.run(W))\n",
    "print(\"====== b ======\")\n",
    "print(sess.run(b))\n",
    "print(\"==== expr ====\")\n",
    "\n",
    "print(sess.run(expr,feed_dict={X:x_data}))\n",
    "sess.close()\n"
   ]
  },
  {
   "cell_type": "markdown",
   "metadata": {},
   "source": [
    "## Linear regression\n",
    "- 선형회귀"
   ]
  },
  {
   "cell_type": "code",
   "execution_count": 6,
   "metadata": {},
   "outputs": [
    {
     "name": "stdout",
     "output_type": "stream",
     "text": [
      "0 3.8332806 [0.7747356] [0.7355484]\n",
      "1 0.11506554 [0.690763] [0.67854446]\n",
      "2 0.067360155 [0.7079664] [0.6665304]\n",
      "3 0.063655905 [0.7139189] [0.6500377]\n",
      "4 0.060626198 [0.7209128] [0.6344626]\n",
      "5 0.057746347 [0.72760916] [0.61920494]\n",
      "6 0.055003345 [0.73415864] [0.6043203]\n",
      "7 0.05239062 [0.7405491] [0.5897928]\n",
      "8 0.04990204 [0.7467862] [0.57561463]\n",
      "9 0.04753165 [0.7528732] [0.56177723]\n",
      "\n",
      "=====test=====\n",
      "X:5,Y: [4.3261433]\n",
      "X:2.5,Y: [2.4439602]\n"
     ]
    }
   ],
   "source": [
    "import tensorflow as tf\n",
    "\n",
    "x_data = [1,2,3]\n",
    "y_data = [1,2,3]\n",
    "\n",
    "W = tf.Variable(tf.random_uniform([1],-1.0,1.0)) # -1 ~ 1 사이에 균등분포\n",
    "b = tf.Variable(tf.random_uniform([1],-1.0,1.0))\n",
    "\n",
    "X = tf.placeholder(tf.float32,name='X')\n",
    "Y = tf.placeholder(tf.float32,name='Y')\n",
    "\n",
    "hypothesis = W*X + b # X와 Y의 관계\n",
    "\n",
    "cost = tf.reduce_mean(tf.square(hypothesis - Y)) # 예측값 - 실제값 -> 제곱 -> 평균\n",
    "\n",
    "optimizer = tf.train.GradientDescentOptimizer(learning_rate=0.1)\n",
    "train = optimizer.minimize(cost)\n",
    "\n",
    "with tf.Session() as sess:\n",
    "    sess.run(tf.global_variables_initializer())\n",
    "    \n",
    "    for step in range(10):\n",
    "        _, cost_val = sess.run([train,cost], feed_dict={X:x_data,Y:y_data})\n",
    "        print(step,cost_val,sess.run(W),sess.run(b))\n",
    "        \n",
    "    print(\"\\n=====test=====\")\n",
    "    print(\"X:5,Y:\",sess.run(hypothesis,feed_dict={X:5}))\n",
    "    print(\"X:2.5,Y:\",sess.run(hypothesis,feed_dict={X:2.5}))"
   ]
  }
 ],
 "metadata": {
  "kernelspec": {
   "display_name": "Python [default]",
   "language": "python",
   "name": "python3"
  },
  "language_info": {
   "codemirror_mode": {
    "name": "ipython",
    "version": 3
   },
   "file_extension": ".py",
   "mimetype": "text/x-python",
   "name": "python",
   "nbconvert_exporter": "python",
   "pygments_lexer": "ipython3",
   "version": "3.5.6"
  }
 },
 "nbformat": 4,
 "nbformat_minor": 2
}
